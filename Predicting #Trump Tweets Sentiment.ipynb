{
 "cells": [
  {
   "cell_type": "markdown",
   "metadata": {
    "colab_type": "text",
    "id": "KzVGPFVDvbMi"
   },
   "source": [
    "# "
   ]
  },
  {
   "cell_type": "markdown",
   "metadata": {
    "colab_type": "text",
    "id": "_XBcs6ZNvhUd"
   },
   "source": [
    "### Import Packages and Data"
   ]
  },
  {
   "cell_type": "code",
   "execution_count": 0,
   "metadata": {
    "colab": {},
    "colab_type": "code",
    "id": "ZYI0Jurpu9A7"
   },
   "outputs": [],
   "source": [
    "# import module(s) into namespace\n",
    "import pandas as pd   #we almost always need pandas because we like data frames\n",
    "from bs4 import BeautifulSoup\n",
    "import requests\n",
    "import csv\n",
    "from __future__ import division\n",
    "pd.set_option('display.max_colwidth', 150) "
   ]
  },
  {
   "cell_type": "code",
   "execution_count": 64,
   "metadata": {
    "colab": {
     "base_uri": "https://localhost:8080/",
     "height": 207
    },
    "colab_type": "code",
    "id": "PsLOWhCGvloG",
    "outputId": "eab4fe60-d702-40c7-a36e-1568bd97b19c"
   },
   "outputs": [
    {
     "name": "stdout",
     "output_type": "stream",
     "text": [
      "Requirement already satisfied: tweepy in /usr/local/lib/python3.6/dist-packages (3.6.0)\n",
      "Requirement already satisfied: requests>=2.11.1 in /usr/local/lib/python3.6/dist-packages (from tweepy) (2.18.4)\n",
      "Requirement already satisfied: requests-oauthlib>=0.7.0 in /usr/local/lib/python3.6/dist-packages (from tweepy) (1.0.0)\n",
      "Requirement already satisfied: six>=1.10.0 in /usr/local/lib/python3.6/dist-packages (from tweepy) (1.11.0)\n",
      "Requirement already satisfied: PySocks>=1.5.7 in /usr/local/lib/python3.6/dist-packages (from tweepy) (1.6.8)\n",
      "Requirement already satisfied: chardet<3.1.0,>=3.0.2 in /usr/local/lib/python3.6/dist-packages (from requests>=2.11.1->tweepy) (3.0.4)\n",
      "Requirement already satisfied: urllib3<1.23,>=1.21.1 in /usr/local/lib/python3.6/dist-packages (from requests>=2.11.1->tweepy) (1.22)\n",
      "Requirement already satisfied: idna<2.7,>=2.5 in /usr/local/lib/python3.6/dist-packages (from requests>=2.11.1->tweepy) (2.6)\n",
      "Requirement already satisfied: certifi>=2017.4.17 in /usr/local/lib/python3.6/dist-packages (from requests>=2.11.1->tweepy) (2018.8.24)\n",
      "Requirement already satisfied: oauthlib>=0.6.2 in /usr/local/lib/python3.6/dist-packages (from requests-oauthlib>=0.7.0->tweepy) (2.1.0)\n"
     ]
    }
   ],
   "source": [
    "!pip install tweepy\n",
    "import tweepy\n",
    "from tweepy import OAuthHandler\n",
    "\n",
    "\n",
    "consumer_key =  'YjZ77yjePvArLtnp4WOBJm6fP'\n",
    "consumer_secret = 'VIiA3zN1jntdab1QRDEYjCZ4gYAa8tU1mxi3LMqjqjmHMz7iVm'\n",
    "access_token= '1032395859898626050-WBTdOzBydYK4odmPXy9Ngx5JVLMYTz'\n",
    "access_secret= 'XnbpZvdNWxHShzdnlrDkyyuxcMJbPQraWFIIdt1IgfWxu'\n",
    "\n",
    "auth = OAuthHandler(consumer_key, consumer_secret)\n",
    "auth.set_access_token(access_token, access_secret)\n",
    " \n",
    "\n",
    "\n",
    "api = tweepy.API(auth)"
   ]
  },
  {
   "cell_type": "markdown",
   "metadata": {
    "colab_type": "text",
    "id": "1feSnly6J4kT"
   },
   "source": [
    "Below we define an empty dataframe that will hold the tweets. The tweets will be collected based on geospatial and text critera specifying that 5000 tweets containing '#Trump' will be collected in the circular-area whose radius is 500 KM around the center of 1321 Rockhurst Rd, Kansas City, MO 64110, USA."
   ]
  },
  {
   "cell_type": "code",
   "execution_count": 65,
   "metadata": {
    "colab": {
     "base_uri": "https://localhost:8080/",
     "height": 51
    },
    "colab_type": "code",
    "id": "eN1G8rekxCuV",
    "outputId": "1e9e34fb-8c17-4d3c-d7d7-3de4e9cfe03c"
   },
   "outputs": [
    {
     "name": "stdout",
     "output_type": "stream",
     "text": [
      "API Call Output Type:  <class 'list'>\n",
      "Tweet Objects:  1070\n"
     ]
    }
   ],
   "source": [
    "#Define an empty dataframe to create a list of tweets that can be printed\n",
    "results = []\n",
    "\n",
    "#Define the variables to be used in the api search\n",
    "latitude = 39.032660\n",
    "longitude = -94.569980\n",
    "max_range = 250\n",
    "hashtag = '#Trump'\n",
    "\n",
    "#Get the first 5000 items based on the search query\n",
    "for tweet in tweepy.Cursor(api.search, q = hashtag, geocode = '%f,%f,%dkm' % (latitude, longitude, max_range) ).items(1500):\n",
    "    results.append(tweet)\n",
    "\n",
    "#Verify the number of list items is 5000\n",
    "print('API Call Output Type: ', type(results))\n",
    "print('Tweet Objects: ', len(results))"
   ]
  },
  {
   "cell_type": "markdown",
   "metadata": {
    "colab_type": "text",
    "id": "G28qOg1GhU1s"
   },
   "source": [
    "### Choose Tweet Objects to mine\n",
    "* Hashtags included in tweet objects will be important in this project when identifying topic of discussion.\n",
    "* A total count of all of a user's tweets (including retweets and quote tweets) could be closely related to the number of a user's followers. In addition, users that have suspiciously small status counts might be omitted from the analysis due to misrepresentation of tweet population sample or because they are spam accounts.\n",
    "* The verified tweet object is a boolean value that distinguishes people of interest, such as celebrities or politicians, from normal twitter users.\n",
    "* Mentions on a tweet will help keep us informed of what people are sharing with others about political topics. An example that might allow us to predict outcomes of midterm elections in November is the sentiment towards tweets containing #Trump.\n",
    "* The language on a majority of these tweets will likely be English (en), other languages have a higher chance of misrepresenting our sample data by including irrelevant tweet objects.\n",
    "* I chose to include the text object from tweets that contain #Trump in order to find twitter users interested in politics associated under Donald Trump's administration. This object was also chosen because it will likely provide insightful text that can be used to determine the underlying sentiment of a user towards Trump. \n",
    "* The next two tweet objects that I chose to include in my data frame were the retweet and favorite counts for tweets including #Trump in their tags. Retweet and favorite counts can be useful when analyzing popularity of a tweet and will likely require different weights if a user is favoriting tweets more often than retweeting. \n",
    "* Including the created_at tweet object was done in order to allow the data frame to be sorted in chronological order upon anlysis. This might show trends in popularity or sentiment depending upon the Chiefs performance after a game. \n",
    "* A user's name and account description might also allow us to predict the tweet's sentiment, which is why I chose to mine user.name and user.description tweet objects. The description of the account might also allow us to predict a political party affiliation."
   ]
  },
  {
   "cell_type": "code",
   "execution_count": 0,
   "metadata": {
    "colab": {},
    "colab_type": "code",
    "id": "VOUHEJ1nzpsk"
   },
   "outputs": [],
   "source": [
    "#Create a function to convert a given list of tweets into a Pandas DataFrame\n",
    "#The DataFrame will consist of only chosen values below\n",
    "\n",
    "def toDataFrame(tweets):\n",
    "\n",
    "    DataSet = pd.DataFrame()\n",
    "\n",
    "    DataSet['TweetHashtags'] = [tweet.entities.get('hashtags') for tweet in tweets]\n",
    "    DataSet['UserStatusCount'] = [tweet.user.statuses_count for tweet in tweets]\n",
    "    DataSet['UserVerified'] = [tweet.user.verified for tweet in tweets]\n",
    "    #DataSet['TweetMentions'] = [tweet.entities.get('user_mentions') for tweet in tweets]\n",
    "    DataSet['TweetLanguage'] = [tweet.lang for tweet in tweets]\n",
    "    DataSet['TweetText'] = [tweet.text for tweet in tweets]\n",
    "    DataSet['TweetRetweetCount'] = [tweet.retweet_count for tweet in tweets]\n",
    "    DataSet['TweetFavoriteCount'] = [tweet.favorite_count for tweet in tweets]\n",
    "    DataSet['TweetCreated'] = [tweet.created_at for tweet in tweets]\n",
    "    #DataSet['userName'] = [tweet.user.name for tweet in tweets]\n",
    "    DataSet['userDesc'] = [tweet.user.description for tweet in tweets]\n",
    "    #DataSet['UserFollowerCount'] = [tweet.user.followers_count for tweet in tweets]\n",
    "\n",
    "    return DataSet"
   ]
  },
  {
   "cell_type": "markdown",
   "metadata": {
    "colab_type": "text",
    "id": "bggRX8V_izVS"
   },
   "source": [
    "### Create and Populate DataFrame\n",
    "Here we are going to use the predefined list of tweet objects that we chose to populate a dataframe, which is named 'tweet_frame.' The resulting dataframe's shape is 500 rows by 9 columns. Printing ten of the tweet's text object is very informative, already it is obvious that most of these tweet's are going to be a form of a retweet (RT). In addition, the user @ArrowheadPride (an account I am actually following) appears to be very popular."
   ]
  },
  {
   "cell_type": "code",
   "execution_count": 67,
   "metadata": {
    "colab": {
     "base_uri": "https://localhost:8080/",
     "height": 34
    },
    "colab_type": "code",
    "id": "cTnSXMOMi1Ht",
    "outputId": "818184d1-d2a5-477c-8423-eb97148cf767"
   },
   "outputs": [
    {
     "name": "stdout",
     "output_type": "stream",
     "text": [
      "Dataframe Shape (Rows, Columns):  (1070, 9)\n"
     ]
    }
   ],
   "source": [
    "#Pass the tweets list to create a DataFrame\n",
    "tweet_frame = toDataFrame(results)\n",
    "print('Dataframe Shape (Rows, Columns): ', tweet_frame.shape)"
   ]
  },
  {
   "cell_type": "code",
   "execution_count": 68,
   "metadata": {
    "colab": {
     "base_uri": "https://localhost:8080/",
     "height": 224
    },
    "colab_type": "code",
    "id": "_H5rvD4si8oS",
    "outputId": "cdc54af0-020c-4f31-e2f1-ef800b8b1f7c"
   },
   "outputs": [
    {
     "data": {
      "text/plain": [
       "0    RT @Jesus_isPeace: Prof who tweeted about teaching “future dead #cops” &amp; assassinating #Trump &amp; #Pence is founder of group that harassed #C…\n",
       "1    Prof who tweeted about teaching “future dead #cops” &amp; assassinating #Trump &amp; #Pence is founder of group that harass… https://t.co/tBFatD9nz1\n",
       "2          RT @Jesus_isPeace: #Trump Admin Cancels #FDA Contract to Purchase Body Parts of #AbortedBabies for Tax-Funded Research....\\n\\n#AbortionMurder…\n",
       "3                        #Trump Admin Cancels #FDA Contract to Purchase Body Parts of #AbortedBabies for Tax-Funded Research....… https://t.co/30Mx4ypKJZ\n",
       "4            RT @Jesus_isPeace: #BrettKavanaugh Smear Motive Revealed: #Democratic Operative Admits Derailing #KavanaughHearing is Really About Saving #…\n",
       "5            RT @Jesus_isPeace: #BrettKavanaugh Smear Motive Revealed: #Democratic Operative Admits Derailing #KavanaughHearing is Really About Saving #…\n",
       "6            RT @Jesus_isPeace: #BrettKavanaugh Smear Motive Revealed: #Democratic Operative Admits Derailing #KavanaughHearing is Really About Saving #…\n",
       "7            #BrettKavanaugh Smear Motive Revealed: #Democratic Operative Admits Derailing #KavanaughHearing is Really About Sav… https://t.co/76aT5sf83g\n",
       "8                                                                             In response from Trump #TrumpPressConference #Trump https://t.co/xRDP398kv7\n",
       "9      #Trump is the ultimate predator!\\n\\n1(202) 224-3121\\n\\n#TrumpLies #SexualAssault #KavaNO #IBelieveHer\\n\\nhttps://trump-in… https://t.co/EwI7ZkOjFx\n",
       "Name: TweetText, dtype: object"
      ]
     },
     "execution_count": 68,
     "metadata": {
      "tags": []
     },
     "output_type": "execute_result"
    }
   ],
   "source": [
    "tweet_frame['TweetText'][0:10]"
   ]
  },
  {
   "cell_type": "markdown",
   "metadata": {
    "colab_type": "text",
    "id": "f3-PbRkkjyvJ"
   },
   "source": [
    "Taking a look at the head of our tweet_frame is also very helpful, it gives a brief introduction to the various types of data that will potentially be used during analysis.  "
   ]
  },
  {
   "cell_type": "code",
   "execution_count": 69,
   "metadata": {
    "colab": {
     "base_uri": "https://localhost:8080/",
     "height": 751
    },
    "colab_type": "code",
    "id": "fsZahBuNj0oJ",
    "outputId": "99af6c0a-ad21-4665-f21f-a98623dbd0a8"
   },
   "outputs": [
    {
     "data": {
      "text/html": [
       "<div>\n",
       "<style scoped>\n",
       "    .dataframe tbody tr th:only-of-type {\n",
       "        vertical-align: middle;\n",
       "    }\n",
       "\n",
       "    .dataframe tbody tr th {\n",
       "        vertical-align: top;\n",
       "    }\n",
       "\n",
       "    .dataframe thead th {\n",
       "        text-align: right;\n",
       "    }\n",
       "</style>\n",
       "<table border=\"1\" class=\"dataframe\">\n",
       "  <thead>\n",
       "    <tr style=\"text-align: right;\">\n",
       "      <th></th>\n",
       "      <th>TweetHashtags</th>\n",
       "      <th>UserStatusCount</th>\n",
       "      <th>UserVerified</th>\n",
       "      <th>TweetLanguage</th>\n",
       "      <th>TweetText</th>\n",
       "      <th>TweetRetweetCount</th>\n",
       "      <th>TweetFavoriteCount</th>\n",
       "      <th>TweetCreated</th>\n",
       "      <th>userDesc</th>\n",
       "    </tr>\n",
       "  </thead>\n",
       "  <tbody>\n",
       "    <tr>\n",
       "      <th>0</th>\n",
       "      <td>[{'text': 'cops', 'indices': [64, 69]}, {'text': 'Trump', 'indices': [91, 97]}, {'text': 'Pence', 'indices': [104, 110]}]</td>\n",
       "      <td>89767</td>\n",
       "      <td>False</td>\n",
       "      <td>en</td>\n",
       "      <td>RT @Jesus_isPeace: Prof who tweeted about teaching “future dead #cops” &amp;amp; assassinating #Trump &amp;amp; #Pence is founder of group that harassed #C…</td>\n",
       "      <td>1</td>\n",
       "      <td>0</td>\n",
       "      <td>2018-09-27 04:19:37</td>\n",
       "      <td>#WalkAway\\nMother should I #BUILDTHEWALL\\nNO LISTS\\n#PatsNation\\nFight the good fight EVERY MOMENT\\n#KAG #NEWRESISTANCE \\nhttps://t.co/qBYA9m9HMb\\...</td>\n",
       "    </tr>\n",
       "    <tr>\n",
       "      <th>1</th>\n",
       "      <td>[{'text': 'cops', 'indices': [45, 50]}, {'text': 'Trump', 'indices': [72, 78]}, {'text': 'Pence', 'indices': [85, 91]}]</td>\n",
       "      <td>130503</td>\n",
       "      <td>False</td>\n",
       "      <td>en</td>\n",
       "      <td>Prof who tweeted about teaching “future dead #cops” &amp;amp; assassinating #Trump &amp;amp; #Pence is founder of group that harass… https://t.co/tBFatD9nz1</td>\n",
       "      <td>1</td>\n",
       "      <td>1</td>\n",
       "      <td>2018-09-27 04:18:40</td>\n",
       "      <td>#PresTrump #NoSharia #AmericaFirst #USA #DTS #CloseBorders #LockHerUp #Bible #Constitution #NoAbortion #A1 #A2 #Israel Genesis12:3, Esther4:14 2 C...</td>\n",
       "    </tr>\n",
       "    <tr>\n",
       "      <th>2</th>\n",
       "      <td>[{'text': 'Trump', 'indices': [19, 25]}, {'text': 'FDA', 'indices': [40, 44]}, {'text': 'AbortedBabies', 'indices': [80, 94]}]</td>\n",
       "      <td>92603</td>\n",
       "      <td>False</td>\n",
       "      <td>en</td>\n",
       "      <td>RT @Jesus_isPeace: #Trump Admin Cancels #FDA Contract to Purchase Body Parts of #AbortedBabies for Tax-Funded Research....\\n\\n#AbortionMurder…</td>\n",
       "      <td>1</td>\n",
       "      <td>0</td>\n",
       "      <td>2018-09-27 04:08:56</td>\n",
       "      <td>Socialism is a philosophy of failure, a creed of ignorance and a gospel of envy.   The equal sharing of misery.  Sir Winston Churchill #WakeUpAmer...</td>\n",
       "    </tr>\n",
       "    <tr>\n",
       "      <th>3</th>\n",
       "      <td>[{'text': 'Trump', 'indices': [0, 6]}, {'text': 'FDA', 'indices': [21, 25]}, {'text': 'AbortedBabies', 'indices': [61, 75]}]</td>\n",
       "      <td>130503</td>\n",
       "      <td>False</td>\n",
       "      <td>en</td>\n",
       "      <td>#Trump Admin Cancels #FDA Contract to Purchase Body Parts of #AbortedBabies for Tax-Funded Research....… https://t.co/30Mx4ypKJZ</td>\n",
       "      <td>1</td>\n",
       "      <td>0</td>\n",
       "      <td>2018-09-27 04:02:07</td>\n",
       "      <td>#PresTrump #NoSharia #AmericaFirst #USA #DTS #CloseBorders #LockHerUp #Bible #Constitution #NoAbortion #A1 #A2 #Israel Genesis12:3, Esther4:14 2 C...</td>\n",
       "    </tr>\n",
       "    <tr>\n",
       "      <th>4</th>\n",
       "      <td>[{'text': 'BrettKavanaugh', 'indices': [19, 34]}, {'text': 'Democratic', 'indices': [58, 69]}, {'text': 'KavanaughHearing', 'indices': [97, 114]}]</td>\n",
       "      <td>36283</td>\n",
       "      <td>False</td>\n",
       "      <td>en</td>\n",
       "      <td>RT @Jesus_isPeace: #BrettKavanaugh Smear Motive Revealed: #Democratic Operative Admits Derailing #KavanaughHearing is Really About Saving #…</td>\n",
       "      <td>3</td>\n",
       "      <td>0</td>\n",
       "      <td>2018-09-27 03:53:23</td>\n",
       "      <td>🇺🇸#POTUS45❤#MAGA🇺🇸👍💥A feisty Business Woman💥#TrumpSupporter❤🌟JOIN #WalkAway, 🌟#AmericaFirst🇺🇸 NOT illegals😡</td>\n",
       "    </tr>\n",
       "  </tbody>\n",
       "</table>\n",
       "</div>"
      ],
      "text/plain": [
       "                                                                                                                                        TweetHashtags  \\\n",
       "0                           [{'text': 'cops', 'indices': [64, 69]}, {'text': 'Trump', 'indices': [91, 97]}, {'text': 'Pence', 'indices': [104, 110]}]   \n",
       "1                             [{'text': 'cops', 'indices': [45, 50]}, {'text': 'Trump', 'indices': [72, 78]}, {'text': 'Pence', 'indices': [85, 91]}]   \n",
       "2                      [{'text': 'Trump', 'indices': [19, 25]}, {'text': 'FDA', 'indices': [40, 44]}, {'text': 'AbortedBabies', 'indices': [80, 94]}]   \n",
       "3                        [{'text': 'Trump', 'indices': [0, 6]}, {'text': 'FDA', 'indices': [21, 25]}, {'text': 'AbortedBabies', 'indices': [61, 75]}]   \n",
       "4  [{'text': 'BrettKavanaugh', 'indices': [19, 34]}, {'text': 'Democratic', 'indices': [58, 69]}, {'text': 'KavanaughHearing', 'indices': [97, 114]}]   \n",
       "\n",
       "   UserStatusCount  UserVerified TweetLanguage  \\\n",
       "0            89767         False            en   \n",
       "1           130503         False            en   \n",
       "2            92603         False            en   \n",
       "3           130503         False            en   \n",
       "4            36283         False            en   \n",
       "\n",
       "                                                                                                                                              TweetText  \\\n",
       "0  RT @Jesus_isPeace: Prof who tweeted about teaching “future dead #cops” &amp; assassinating #Trump &amp; #Pence is founder of group that harassed #C…   \n",
       "1  Prof who tweeted about teaching “future dead #cops” &amp; assassinating #Trump &amp; #Pence is founder of group that harass… https://t.co/tBFatD9nz1   \n",
       "2        RT @Jesus_isPeace: #Trump Admin Cancels #FDA Contract to Purchase Body Parts of #AbortedBabies for Tax-Funded Research....\\n\\n#AbortionMurder…   \n",
       "3                      #Trump Admin Cancels #FDA Contract to Purchase Body Parts of #AbortedBabies for Tax-Funded Research....… https://t.co/30Mx4ypKJZ   \n",
       "4          RT @Jesus_isPeace: #BrettKavanaugh Smear Motive Revealed: #Democratic Operative Admits Derailing #KavanaughHearing is Really About Saving #…   \n",
       "\n",
       "   TweetRetweetCount  TweetFavoriteCount        TweetCreated  \\\n",
       "0                  1                   0 2018-09-27 04:19:37   \n",
       "1                  1                   1 2018-09-27 04:18:40   \n",
       "2                  1                   0 2018-09-27 04:08:56   \n",
       "3                  1                   0 2018-09-27 04:02:07   \n",
       "4                  3                   0 2018-09-27 03:53:23   \n",
       "\n",
       "                                                                                                                                                userDesc  \n",
       "0  #WalkAway\\nMother should I #BUILDTHEWALL\\nNO LISTS\\n#PatsNation\\nFight the good fight EVERY MOMENT\\n#KAG #NEWRESISTANCE \\nhttps://t.co/qBYA9m9HMb\\...  \n",
       "1  #PresTrump #NoSharia #AmericaFirst #USA #DTS #CloseBorders #LockHerUp #Bible #Constitution #NoAbortion #A1 #A2 #Israel Genesis12:3, Esther4:14 2 C...  \n",
       "2  Socialism is a philosophy of failure, a creed of ignorance and a gospel of envy.   The equal sharing of misery.  Sir Winston Churchill #WakeUpAmer...  \n",
       "3  #PresTrump #NoSharia #AmericaFirst #USA #DTS #CloseBorders #LockHerUp #Bible #Constitution #NoAbortion #A1 #A2 #Israel Genesis12:3, Esther4:14 2 C...  \n",
       "4                                            🇺🇸#POTUS45❤#MAGA🇺🇸👍💥A feisty Business Woman💥#TrumpSupporter❤🌟JOIN #WalkAway, 🌟#AmericaFirst🇺🇸 NOT illegals😡  "
      ]
     },
     "execution_count": 69,
     "metadata": {
      "tags": []
     },
     "output_type": "execute_result"
    }
   ],
   "source": [
    "tweet_frame.head()"
   ]
  },
  {
   "cell_type": "code",
   "execution_count": 70,
   "metadata": {
    "colab": {
     "base_uri": "https://localhost:8080/",
     "height": 870
    },
    "colab_type": "code",
    "id": "pQoev4q2j50m",
    "outputId": "b550dac5-b1cb-4114-fe54-28bd79bb4d71"
   },
   "outputs": [
    {
     "data": {
      "text/html": [
       "<div>\n",
       "<style scoped>\n",
       "    .dataframe tbody tr th:only-of-type {\n",
       "        vertical-align: middle;\n",
       "    }\n",
       "\n",
       "    .dataframe tbody tr th {\n",
       "        vertical-align: top;\n",
       "    }\n",
       "\n",
       "    .dataframe thead th {\n",
       "        text-align: right;\n",
       "    }\n",
       "</style>\n",
       "<table border=\"1\" class=\"dataframe\">\n",
       "  <thead>\n",
       "    <tr style=\"text-align: right;\">\n",
       "      <th></th>\n",
       "      <th>TweetHashtags</th>\n",
       "      <th>UserStatusCount</th>\n",
       "      <th>UserVerified</th>\n",
       "      <th>TweetLanguage</th>\n",
       "      <th>TweetText</th>\n",
       "      <th>TweetRetweetCount</th>\n",
       "      <th>TweetFavoriteCount</th>\n",
       "      <th>TweetCreated</th>\n",
       "      <th>userDesc</th>\n",
       "    </tr>\n",
       "  </thead>\n",
       "  <tbody>\n",
       "    <tr>\n",
       "      <th>1065</th>\n",
       "      <td>[{'text': 'Racism', 'indices': [48, 55]}, {'text': 'Trump', 'indices': [76, 82]}, {'text': 'TrumpHaters', 'indices': [111, 123]}]</td>\n",
       "      <td>2100</td>\n",
       "      <td>False</td>\n",
       "      <td>en</td>\n",
       "      <td>RT @wattsjim: So, what else is new? 99.9999% of #Racism charges about POTUS #Trump are LIES cooked up by Dems, #TrumpHaters &amp;amp; #FakeNewsMedi…</td>\n",
       "      <td>350</td>\n",
       "      <td>0</td>\n",
       "      <td>2018-09-17 04:33:47</td>\n",
       "      <td></td>\n",
       "    </tr>\n",
       "    <tr>\n",
       "      <th>1066</th>\n",
       "      <td>[{'text': 'TRUMP', 'indices': [18, 24]}, {'text': 'MISSOURI', 'indices': [31, 40]}, {'text': 'SpringfieldMO', 'indices': [84, 98]}]</td>\n",
       "      <td>9367</td>\n",
       "      <td>False</td>\n",
       "      <td>en</td>\n",
       "      <td>RT @Str8DonLemon: #TRUMP RALLY #MISSOURI!\\n\\nWhen? \\nFri, September 21, 2018\\n\\nWhere? \\n\\n#SpringfieldMO\\nJQH Arena\\n685 S. John Q. Hammons Parkway…</td>\n",
       "      <td>179</td>\n",
       "      <td>0</td>\n",
       "      <td>2018-09-17 04:32:43</td>\n",
       "      <td>Follower of Christ,  President Trump/ VP Pence #TRUMP #MAGA #KAG #KAG2020\\n#CONSERVATIVE</td>\n",
       "    </tr>\n",
       "    <tr>\n",
       "      <th>1067</th>\n",
       "      <td>[{'text': 'TRUMP', 'indices': [18, 24]}, {'text': 'MISSOURI', 'indices': [31, 40]}, {'text': 'SpringfieldMO', 'indices': [84, 98]}]</td>\n",
       "      <td>84869</td>\n",
       "      <td>False</td>\n",
       "      <td>en</td>\n",
       "      <td>RT @Str8DonLemon: #TRUMP RALLY #MISSOURI!\\n\\nWhen? \\nFri, September 21, 2018\\n\\nWhere? \\n\\n#SpringfieldMO\\nJQH Arena\\n685 S. John Q. Hammons Parkway…</td>\n",
       "      <td>179</td>\n",
       "      <td>0</td>\n",
       "      <td>2018-09-17 04:30:17</td>\n",
       "      <td>Married to a Combat Vet Trump is my @POTUS #BuildTheWall Followed By Anthoney Scaramucci Blocked by Cher  &amp; Nancy Sinatra #MAGA #TrumpTrain  #Walk...</td>\n",
       "    </tr>\n",
       "    <tr>\n",
       "      <th>1068</th>\n",
       "      <td>[{'text': 'TRUMP', 'indices': [18, 24]}, {'text': 'MISSOURI', 'indices': [31, 40]}, {'text': 'SpringfieldMO', 'indices': [84, 98]}]</td>\n",
       "      <td>28944</td>\n",
       "      <td>False</td>\n",
       "      <td>en</td>\n",
       "      <td>RT @Str8DonLemon: #TRUMP RALLY #MISSOURI!\\n\\nWhen? \\nFri, September 21, 2018\\n\\nWhere? \\n\\n#SpringfieldMO\\nJQH Arena\\n685 S. John Q. Hammons Parkway…</td>\n",
       "      <td>179</td>\n",
       "      <td>0</td>\n",
       "      <td>2018-09-17 04:29:57</td>\n",
       "      <td>🇺🇸Grassroots Twitter Team for #Christian #Conservative Principles &amp; Candidates 🇺🇸Followed By Hannity #KAG #CruzCrew #ProLife #StopCommonCore #Vote...</td>\n",
       "    </tr>\n",
       "    <tr>\n",
       "      <th>1069</th>\n",
       "      <td>[{'text': 'Racism', 'indices': [48, 55]}, {'text': 'Trump', 'indices': [76, 82]}, {'text': 'TrumpHaters', 'indices': [111, 123]}]</td>\n",
       "      <td>23801</td>\n",
       "      <td>False</td>\n",
       "      <td>en</td>\n",
       "      <td>RT @wattsjim: So, what else is new? 99.9999% of #Racism charges about POTUS #Trump are LIES cooked up by Dems, #TrumpHaters &amp;amp; #FakeNewsMedi…</td>\n",
       "      <td>350</td>\n",
       "      <td>0</td>\n",
       "      <td>2018-09-17 04:26:24</td>\n",
       "      <td>US Marine Vet,Fire Fighter/Paramedic, father,husband and just a little bit off my rocker! #MAGA, I SUPPORT DJT</td>\n",
       "    </tr>\n",
       "  </tbody>\n",
       "</table>\n",
       "</div>"
      ],
      "text/plain": [
       "                                                                                                                            TweetHashtags  \\\n",
       "1065    [{'text': 'Racism', 'indices': [48, 55]}, {'text': 'Trump', 'indices': [76, 82]}, {'text': 'TrumpHaters', 'indices': [111, 123]}]   \n",
       "1066  [{'text': 'TRUMP', 'indices': [18, 24]}, {'text': 'MISSOURI', 'indices': [31, 40]}, {'text': 'SpringfieldMO', 'indices': [84, 98]}]   \n",
       "1067  [{'text': 'TRUMP', 'indices': [18, 24]}, {'text': 'MISSOURI', 'indices': [31, 40]}, {'text': 'SpringfieldMO', 'indices': [84, 98]}]   \n",
       "1068  [{'text': 'TRUMP', 'indices': [18, 24]}, {'text': 'MISSOURI', 'indices': [31, 40]}, {'text': 'SpringfieldMO', 'indices': [84, 98]}]   \n",
       "1069    [{'text': 'Racism', 'indices': [48, 55]}, {'text': 'Trump', 'indices': [76, 82]}, {'text': 'TrumpHaters', 'indices': [111, 123]}]   \n",
       "\n",
       "      UserStatusCount  UserVerified TweetLanguage  \\\n",
       "1065             2100         False            en   \n",
       "1066             9367         False            en   \n",
       "1067            84869         False            en   \n",
       "1068            28944         False            en   \n",
       "1069            23801         False            en   \n",
       "\n",
       "                                                                                                                                                  TweetText  \\\n",
       "1065       RT @wattsjim: So, what else is new? 99.9999% of #Racism charges about POTUS #Trump are LIES cooked up by Dems, #TrumpHaters &amp; #FakeNewsMedi…   \n",
       "1066  RT @Str8DonLemon: #TRUMP RALLY #MISSOURI!\\n\\nWhen? \\nFri, September 21, 2018\\n\\nWhere? \\n\\n#SpringfieldMO\\nJQH Arena\\n685 S. John Q. Hammons Parkway…   \n",
       "1067  RT @Str8DonLemon: #TRUMP RALLY #MISSOURI!\\n\\nWhen? \\nFri, September 21, 2018\\n\\nWhere? \\n\\n#SpringfieldMO\\nJQH Arena\\n685 S. John Q. Hammons Parkway…   \n",
       "1068  RT @Str8DonLemon: #TRUMP RALLY #MISSOURI!\\n\\nWhen? \\nFri, September 21, 2018\\n\\nWhere? \\n\\n#SpringfieldMO\\nJQH Arena\\n685 S. John Q. Hammons Parkway…   \n",
       "1069       RT @wattsjim: So, what else is new? 99.9999% of #Racism charges about POTUS #Trump are LIES cooked up by Dems, #TrumpHaters &amp; #FakeNewsMedi…   \n",
       "\n",
       "      TweetRetweetCount  TweetFavoriteCount        TweetCreated  \\\n",
       "1065                350                   0 2018-09-17 04:33:47   \n",
       "1066                179                   0 2018-09-17 04:32:43   \n",
       "1067                179                   0 2018-09-17 04:30:17   \n",
       "1068                179                   0 2018-09-17 04:29:57   \n",
       "1069                350                   0 2018-09-17 04:26:24   \n",
       "\n",
       "                                                                                                                                                   userDesc  \n",
       "1065                                                                                                                                                         \n",
       "1066                                                               Follower of Christ,  President Trump/ VP Pence #TRUMP #MAGA #KAG #KAG2020\\n#CONSERVATIVE  \n",
       "1067  Married to a Combat Vet Trump is my @POTUS #BuildTheWall Followed By Anthoney Scaramucci Blocked by Cher  & Nancy Sinatra #MAGA #TrumpTrain  #Walk...  \n",
       "1068  🇺🇸Grassroots Twitter Team for #Christian #Conservative Principles & Candidates 🇺🇸Followed By Hannity #KAG #CruzCrew #ProLife #StopCommonCore #Vote...  \n",
       "1069                                         US Marine Vet,Fire Fighter/Paramedic, father,husband and just a little bit off my rocker! #MAGA, I SUPPORT DJT  "
      ]
     },
     "execution_count": 70,
     "metadata": {
      "tags": []
     },
     "output_type": "execute_result"
    }
   ],
   "source": [
    "tweet_frame.tail()"
   ]
  },
  {
   "cell_type": "markdown",
   "metadata": {
    "colab_type": "text",
    "id": "WjB7SgNZksXU"
   },
   "source": [
    "### Count Vectorizer"
   ]
  },
  {
   "cell_type": "code",
   "execution_count": 0,
   "metadata": {
    "colab": {},
    "colab_type": "code",
    "id": "xcsSkcwCkuzw"
   },
   "outputs": [],
   "source": [
    "#Import pandas into the workspace\n",
    "import pandas as pd\n",
    "#Import numpy into the workspace\n",
    "import numpy as np\n",
    "#Import the CountVectorizer module\n",
    "from sklearn.feature_extraction.text import CountVectorizer\n",
    "#Import the math function to do math\n",
    "import math\n",
    "#Specify the max width of pixels per column for text that will be analyzed\n",
    "pd.set_option('display.max_colwidth', 800)"
   ]
  },
  {
   "cell_type": "markdown",
   "metadata": {
    "colab_type": "text",
    "id": "cvomzw88k3Rg"
   },
   "source": [
    "#### Count Vectorizer Summary\n",
    "cv1\n",
    "*   Parameters: stop_words='english'\n",
    "*   Feature Space: 1113\n",
    "\n",
    "cv2\n",
    "*   Parameters: stop_words='stopwords'\n",
    "*   Feature Space: 1106\n",
    "\n",
    "cv3:\n",
    "*   Parameters: stop_words=stopwords, min_df=.02, ngram_range = (2,3)\n",
    "*   Feature Space: 122\n",
    "\n",
    "cv4\n",
    "*   Parameters: stop_words='stopwords', min_df=0.01\n",
    "*   Feature Space: 232"
   ]
  },
  {
   "cell_type": "markdown",
   "metadata": {
    "colab_type": "text",
    "id": "3auY_V2vk7kW"
   },
   "source": [
    "#### CV 1\n",
    "\n",
    "Initial count vectorizer will be built to identify commonly occurring one-word terms. Filtering the 'english' stopwords will be the only parameter added."
   ]
  },
  {
   "cell_type": "code",
   "execution_count": 72,
   "metadata": {
    "colab": {
     "base_uri": "https://localhost:8080/",
     "height": 51
    },
    "colab_type": "code",
    "id": "QGCtSE6gkyei",
    "outputId": "2648eb70-f887-42be-99da-91adaec6f609"
   },
   "outputs": [
    {
     "name": "stdout",
     "output_type": "stream",
     "text": [
      "Shape: (1070, 2708)\n",
      "Type: <class 'scipy.sparse.csr.csr_matrix'>\n"
     ]
    }
   ],
   "source": [
    "#Define the count vectorizer using default parameters\n",
    "cv1 = CountVectorizer(stop_words='english')\n",
    "#Apply the count vectorizer for the bag of words to the dataframe feature\n",
    "cv1_text = cv1.fit_transform(tweet_frame['TweetText'])\n",
    "#This is the feature space for TweetText\n",
    "print('Shape:', cv1_text.shape)\n",
    "#This is the type of matrix that is returned for TweetText\n",
    "print('Type:', type(cv1_text))"
   ]
  },
  {
   "cell_type": "code",
   "execution_count": 73,
   "metadata": {
    "colab": {
     "base_uri": "https://localhost:8080/",
     "height": 408
    },
    "colab_type": "code",
    "id": "VQ00AoNalDla",
    "outputId": "3227fa39-6809-4869-c9c0-c4b097f13a98"
   },
   "outputs": [
    {
     "data": {
      "text/html": [
       "<div>\n",
       "<style scoped>\n",
       "    .dataframe tbody tr th:only-of-type {\n",
       "        vertical-align: middle;\n",
       "    }\n",
       "\n",
       "    .dataframe tbody tr th {\n",
       "        vertical-align: top;\n",
       "    }\n",
       "\n",
       "    .dataframe thead th {\n",
       "        text-align: right;\n",
       "    }\n",
       "</style>\n",
       "<table border=\"1\" class=\"dataframe\">\n",
       "  <thead>\n",
       "    <tr style=\"text-align: right;\">\n",
       "      <th></th>\n",
       "      <th>000</th>\n",
       "      <th>000k</th>\n",
       "      <th>08hqx3itby</th>\n",
       "      <th>08yydqgln5</th>\n",
       "      <th>0aeblsd7ys</th>\n",
       "      <th>0ct5cmy7sh</th>\n",
       "      <th>0iyi6oaxlj</th>\n",
       "      <th>0ulbyi8kiz</th>\n",
       "      <th>10</th>\n",
       "      <th>100</th>\n",
       "      <th>...</th>\n",
       "      <th>zfx5ycskvu</th>\n",
       "      <th>zghzckgrnx</th>\n",
       "      <th>zi28xp65g3</th>\n",
       "      <th>zi7wukfmjw</th>\n",
       "      <th>zjqvebebyo</th>\n",
       "      <th>zljoqykjia</th>\n",
       "      <th>zone</th>\n",
       "      <th>zub6dfgepn</th>\n",
       "      <th>zvwsgmwr5m</th>\n",
       "      <th>zxobcsvfux</th>\n",
       "    </tr>\n",
       "  </thead>\n",
       "  <tbody>\n",
       "    <tr>\n",
       "      <th>0</th>\n",
       "      <td>0</td>\n",
       "      <td>0</td>\n",
       "      <td>0</td>\n",
       "      <td>0</td>\n",
       "      <td>0</td>\n",
       "      <td>0</td>\n",
       "      <td>0</td>\n",
       "      <td>0</td>\n",
       "      <td>0</td>\n",
       "      <td>0</td>\n",
       "      <td>...</td>\n",
       "      <td>0</td>\n",
       "      <td>0</td>\n",
       "      <td>0</td>\n",
       "      <td>0</td>\n",
       "      <td>0</td>\n",
       "      <td>0</td>\n",
       "      <td>0</td>\n",
       "      <td>0</td>\n",
       "      <td>0</td>\n",
       "      <td>0</td>\n",
       "    </tr>\n",
       "    <tr>\n",
       "      <th>1</th>\n",
       "      <td>0</td>\n",
       "      <td>0</td>\n",
       "      <td>0</td>\n",
       "      <td>0</td>\n",
       "      <td>0</td>\n",
       "      <td>0</td>\n",
       "      <td>0</td>\n",
       "      <td>0</td>\n",
       "      <td>0</td>\n",
       "      <td>0</td>\n",
       "      <td>...</td>\n",
       "      <td>0</td>\n",
       "      <td>0</td>\n",
       "      <td>0</td>\n",
       "      <td>0</td>\n",
       "      <td>0</td>\n",
       "      <td>0</td>\n",
       "      <td>0</td>\n",
       "      <td>0</td>\n",
       "      <td>0</td>\n",
       "      <td>0</td>\n",
       "    </tr>\n",
       "    <tr>\n",
       "      <th>2</th>\n",
       "      <td>0</td>\n",
       "      <td>0</td>\n",
       "      <td>0</td>\n",
       "      <td>0</td>\n",
       "      <td>0</td>\n",
       "      <td>0</td>\n",
       "      <td>0</td>\n",
       "      <td>0</td>\n",
       "      <td>0</td>\n",
       "      <td>0</td>\n",
       "      <td>...</td>\n",
       "      <td>0</td>\n",
       "      <td>0</td>\n",
       "      <td>0</td>\n",
       "      <td>0</td>\n",
       "      <td>0</td>\n",
       "      <td>0</td>\n",
       "      <td>0</td>\n",
       "      <td>0</td>\n",
       "      <td>0</td>\n",
       "      <td>0</td>\n",
       "    </tr>\n",
       "    <tr>\n",
       "      <th>3</th>\n",
       "      <td>0</td>\n",
       "      <td>0</td>\n",
       "      <td>0</td>\n",
       "      <td>0</td>\n",
       "      <td>0</td>\n",
       "      <td>0</td>\n",
       "      <td>0</td>\n",
       "      <td>0</td>\n",
       "      <td>0</td>\n",
       "      <td>0</td>\n",
       "      <td>...</td>\n",
       "      <td>0</td>\n",
       "      <td>0</td>\n",
       "      <td>0</td>\n",
       "      <td>0</td>\n",
       "      <td>0</td>\n",
       "      <td>0</td>\n",
       "      <td>0</td>\n",
       "      <td>0</td>\n",
       "      <td>0</td>\n",
       "      <td>0</td>\n",
       "    </tr>\n",
       "    <tr>\n",
       "      <th>4</th>\n",
       "      <td>0</td>\n",
       "      <td>0</td>\n",
       "      <td>0</td>\n",
       "      <td>0</td>\n",
       "      <td>0</td>\n",
       "      <td>0</td>\n",
       "      <td>0</td>\n",
       "      <td>0</td>\n",
       "      <td>0</td>\n",
       "      <td>0</td>\n",
       "      <td>...</td>\n",
       "      <td>0</td>\n",
       "      <td>0</td>\n",
       "      <td>0</td>\n",
       "      <td>0</td>\n",
       "      <td>0</td>\n",
       "      <td>0</td>\n",
       "      <td>0</td>\n",
       "      <td>0</td>\n",
       "      <td>0</td>\n",
       "      <td>0</td>\n",
       "    </tr>\n",
       "    <tr>\n",
       "      <th>5</th>\n",
       "      <td>0</td>\n",
       "      <td>0</td>\n",
       "      <td>0</td>\n",
       "      <td>0</td>\n",
       "      <td>0</td>\n",
       "      <td>0</td>\n",
       "      <td>0</td>\n",
       "      <td>0</td>\n",
       "      <td>0</td>\n",
       "      <td>0</td>\n",
       "      <td>...</td>\n",
       "      <td>0</td>\n",
       "      <td>0</td>\n",
       "      <td>0</td>\n",
       "      <td>0</td>\n",
       "      <td>0</td>\n",
       "      <td>0</td>\n",
       "      <td>0</td>\n",
       "      <td>0</td>\n",
       "      <td>0</td>\n",
       "      <td>0</td>\n",
       "    </tr>\n",
       "    <tr>\n",
       "      <th>6</th>\n",
       "      <td>0</td>\n",
       "      <td>0</td>\n",
       "      <td>0</td>\n",
       "      <td>0</td>\n",
       "      <td>0</td>\n",
       "      <td>0</td>\n",
       "      <td>0</td>\n",
       "      <td>0</td>\n",
       "      <td>0</td>\n",
       "      <td>0</td>\n",
       "      <td>...</td>\n",
       "      <td>0</td>\n",
       "      <td>0</td>\n",
       "      <td>0</td>\n",
       "      <td>0</td>\n",
       "      <td>0</td>\n",
       "      <td>0</td>\n",
       "      <td>0</td>\n",
       "      <td>0</td>\n",
       "      <td>0</td>\n",
       "      <td>0</td>\n",
       "    </tr>\n",
       "    <tr>\n",
       "      <th>7</th>\n",
       "      <td>0</td>\n",
       "      <td>0</td>\n",
       "      <td>0</td>\n",
       "      <td>0</td>\n",
       "      <td>0</td>\n",
       "      <td>0</td>\n",
       "      <td>0</td>\n",
       "      <td>0</td>\n",
       "      <td>0</td>\n",
       "      <td>0</td>\n",
       "      <td>...</td>\n",
       "      <td>0</td>\n",
       "      <td>0</td>\n",
       "      <td>0</td>\n",
       "      <td>0</td>\n",
       "      <td>0</td>\n",
       "      <td>0</td>\n",
       "      <td>0</td>\n",
       "      <td>0</td>\n",
       "      <td>0</td>\n",
       "      <td>0</td>\n",
       "    </tr>\n",
       "    <tr>\n",
       "      <th>8</th>\n",
       "      <td>0</td>\n",
       "      <td>0</td>\n",
       "      <td>0</td>\n",
       "      <td>0</td>\n",
       "      <td>0</td>\n",
       "      <td>0</td>\n",
       "      <td>0</td>\n",
       "      <td>0</td>\n",
       "      <td>0</td>\n",
       "      <td>0</td>\n",
       "      <td>...</td>\n",
       "      <td>0</td>\n",
       "      <td>0</td>\n",
       "      <td>0</td>\n",
       "      <td>0</td>\n",
       "      <td>0</td>\n",
       "      <td>0</td>\n",
       "      <td>0</td>\n",
       "      <td>0</td>\n",
       "      <td>0</td>\n",
       "      <td>0</td>\n",
       "    </tr>\n",
       "    <tr>\n",
       "      <th>9</th>\n",
       "      <td>0</td>\n",
       "      <td>0</td>\n",
       "      <td>0</td>\n",
       "      <td>0</td>\n",
       "      <td>0</td>\n",
       "      <td>0</td>\n",
       "      <td>0</td>\n",
       "      <td>0</td>\n",
       "      <td>0</td>\n",
       "      <td>0</td>\n",
       "      <td>...</td>\n",
       "      <td>0</td>\n",
       "      <td>0</td>\n",
       "      <td>0</td>\n",
       "      <td>0</td>\n",
       "      <td>0</td>\n",
       "      <td>0</td>\n",
       "      <td>0</td>\n",
       "      <td>0</td>\n",
       "      <td>0</td>\n",
       "      <td>0</td>\n",
       "    </tr>\n",
       "  </tbody>\n",
       "</table>\n",
       "<p>10 rows × 2708 columns</p>\n",
       "</div>"
      ],
      "text/plain": [
       "   000  000k  08hqx3itby  08yydqgln5  0aeblsd7ys  0ct5cmy7sh  0iyi6oaxlj  \\\n",
       "0    0     0           0           0           0           0           0   \n",
       "1    0     0           0           0           0           0           0   \n",
       "2    0     0           0           0           0           0           0   \n",
       "3    0     0           0           0           0           0           0   \n",
       "4    0     0           0           0           0           0           0   \n",
       "5    0     0           0           0           0           0           0   \n",
       "6    0     0           0           0           0           0           0   \n",
       "7    0     0           0           0           0           0           0   \n",
       "8    0     0           0           0           0           0           0   \n",
       "9    0     0           0           0           0           0           0   \n",
       "\n",
       "   0ulbyi8kiz  10  100     ...      zfx5ycskvu  zghzckgrnx  zi28xp65g3  \\\n",
       "0           0   0    0     ...               0           0           0   \n",
       "1           0   0    0     ...               0           0           0   \n",
       "2           0   0    0     ...               0           0           0   \n",
       "3           0   0    0     ...               0           0           0   \n",
       "4           0   0    0     ...               0           0           0   \n",
       "5           0   0    0     ...               0           0           0   \n",
       "6           0   0    0     ...               0           0           0   \n",
       "7           0   0    0     ...               0           0           0   \n",
       "8           0   0    0     ...               0           0           0   \n",
       "9           0   0    0     ...               0           0           0   \n",
       "\n",
       "   zi7wukfmjw  zjqvebebyo  zljoqykjia  zone  zub6dfgepn  zvwsgmwr5m  \\\n",
       "0           0           0           0     0           0           0   \n",
       "1           0           0           0     0           0           0   \n",
       "2           0           0           0     0           0           0   \n",
       "3           0           0           0     0           0           0   \n",
       "4           0           0           0     0           0           0   \n",
       "5           0           0           0     0           0           0   \n",
       "6           0           0           0     0           0           0   \n",
       "7           0           0           0     0           0           0   \n",
       "8           0           0           0     0           0           0   \n",
       "9           0           0           0     0           0           0   \n",
       "\n",
       "   zxobcsvfux  \n",
       "0           0  \n",
       "1           0  \n",
       "2           0  \n",
       "3           0  \n",
       "4           0  \n",
       "5           0  \n",
       "6           0  \n",
       "7           0  \n",
       "8           0  \n",
       "9           0  \n",
       "\n",
       "[10 rows x 2708 columns]"
      ]
     },
     "execution_count": 73,
     "metadata": {
      "tags": []
     },
     "output_type": "execute_result"
    }
   ],
   "source": [
    "#Print the sparse matrix as a data frame for an aestheticallly pleasing view of the feature space head#Print t \n",
    "pd.DataFrame(cv1_text.toarray(), columns = cv1.get_feature_names()).head(10)"
   ]
  },
  {
   "cell_type": "markdown",
   "metadata": {
    "colab_type": "text",
    "id": "CGQGEndnncLk"
   },
   "source": [
    "Most frequently occuring terms:"
   ]
  },
  {
   "cell_type": "code",
   "execution_count": 74,
   "metadata": {
    "colab": {
     "base_uri": "https://localhost:8080/",
     "height": 514
    },
    "colab_type": "code",
    "id": "Ip7PImy8nZmq",
    "outputId": "e0433a56-5db1-43c0-8ffc-a04ed23f2456"
   },
   "outputs": [
    {
     "data": {
      "text/html": [
       "<div>\n",
       "<style scoped>\n",
       "    .dataframe tbody tr th:only-of-type {\n",
       "        vertical-align: middle;\n",
       "    }\n",
       "\n",
       "    .dataframe tbody tr th {\n",
       "        vertical-align: top;\n",
       "    }\n",
       "\n",
       "    .dataframe thead th {\n",
       "        text-align: right;\n",
       "    }\n",
       "</style>\n",
       "<table border=\"1\" class=\"dataframe\">\n",
       "  <thead>\n",
       "    <tr style=\"text-align: right;\">\n",
       "      <th></th>\n",
       "      <th>count</th>\n",
       "    </tr>\n",
       "  </thead>\n",
       "  <tbody>\n",
       "    <tr>\n",
       "      <th>trump</th>\n",
       "      <td>727</td>\n",
       "    </tr>\n",
       "    <tr>\n",
       "      <th>rt</th>\n",
       "      <td>574</td>\n",
       "    </tr>\n",
       "    <tr>\n",
       "      <th>https</th>\n",
       "      <td>524</td>\n",
       "    </tr>\n",
       "    <tr>\n",
       "      <th>str8donlemon</th>\n",
       "      <td>176</td>\n",
       "    </tr>\n",
       "    <tr>\n",
       "      <th>amp</th>\n",
       "      <td>175</td>\n",
       "    </tr>\n",
       "    <tr>\n",
       "      <th>maga</th>\n",
       "      <td>133</td>\n",
       "    </tr>\n",
       "    <tr>\n",
       "      <th>president</th>\n",
       "      <td>119</td>\n",
       "    </tr>\n",
       "    <tr>\n",
       "      <th>realdonaldtrump</th>\n",
       "      <td>114</td>\n",
       "    </tr>\n",
       "    <tr>\n",
       "      <th>peacemomma67</th>\n",
       "      <td>107</td>\n",
       "    </tr>\n",
       "    <tr>\n",
       "      <th>missouri</th>\n",
       "      <td>92</td>\n",
       "    </tr>\n",
       "    <tr>\n",
       "      <th>mad</th>\n",
       "      <td>88</td>\n",
       "    </tr>\n",
       "    <tr>\n",
       "      <th>politics</th>\n",
       "      <td>85</td>\n",
       "    </tr>\n",
       "    <tr>\n",
       "      <th>asked</th>\n",
       "      <td>80</td>\n",
       "    </tr>\n",
       "    <tr>\n",
       "      <th>boy</th>\n",
       "      <td>79</td>\n",
       "    </tr>\n",
       "    <tr>\n",
       "      <th>kavanaugh</th>\n",
       "      <td>79</td>\n",
       "    </tr>\n",
       "  </tbody>\n",
       "</table>\n",
       "</div>"
      ],
      "text/plain": [
       "                 count\n",
       "trump              727\n",
       "rt                 574\n",
       "https              524\n",
       "str8donlemon       176\n",
       "amp                175\n",
       "maga               133\n",
       "president          119\n",
       "realdonaldtrump    114\n",
       "peacemomma67       107\n",
       "missouri            92\n",
       "mad                 88\n",
       "politics            85\n",
       "asked               80\n",
       "boy                 79\n",
       "kavanaugh           79"
      ]
     },
     "execution_count": 74,
     "metadata": {
      "tags": []
     },
     "output_type": "execute_result"
    }
   ],
   "source": [
    "names = cv1.get_feature_names()   #create list of feature names\n",
    "\n",
    "count = np.sum(cv1_text.toarray(), axis = 0) # convert list to array to add up feature counts \n",
    "count2 = count.tolist()  # convert numpy array to list\n",
    "\n",
    "count_df = pd.DataFrame(count2, index = names, columns = ['count']) # create a dataframe from the list\n",
    "\n",
    "sorted_count = count_df.sort_values(['count'], ascending = False)\n",
    "sorted_count.head(15)"
   ]
  },
  {
   "cell_type": "markdown",
   "metadata": {
    "colab_type": "text",
    "id": "ruKUdDkdoR6W"
   },
   "source": [
    "Several terms were tokenized that do not appear to add any insights into the tweets. A custom list of terms will be added to the standard 'english' stopwords list. Another count vectorizer will be built using this list."
   ]
  },
  {
   "cell_type": "code",
   "execution_count": 0,
   "metadata": {
    "colab": {},
    "colab_type": "code",
    "id": "tbn4eHftoU51"
   },
   "outputs": [],
   "source": [
    "from sklearn.feature_extraction import text\n",
    "\n",
    "mylist = ['rt', '&', 'amp','pff','http','md','way','fi','fbs','https','years','uh2bpyg3gu','just'] # Add more stopwords to standard english list\n",
    "stopwords = text.ENGLISH_STOP_WORDS.union(mylist)"
   ]
  },
  {
   "cell_type": "markdown",
   "metadata": {
    "colab_type": "text",
    "id": "XItEB-UM2_xO"
   },
   "source": [
    "#### CV 2\n",
    "Initial count vectorizer will be built to identify commonly occurring one-word terms. The stop_words are defined by an english and custom dictionary parameter called stopwords. Last, the head 15 in the resulting data set will be printed."
   ]
  },
  {
   "cell_type": "code",
   "execution_count": 76,
   "metadata": {
    "colab": {
     "base_uri": "https://localhost:8080/",
     "height": 51
    },
    "colab_type": "code",
    "id": "Va8--7TQ3CHm",
    "outputId": "7463cda4-bdfa-4685-bf0a-412fc3c34b73"
   },
   "outputs": [
    {
     "name": "stdout",
     "output_type": "stream",
     "text": [
      "Shape: (1070, 98)\n",
      "Type: <class 'scipy.sparse.csr.csr_matrix'>\n"
     ]
    }
   ],
   "source": [
    "#Define the count vectorizer using default parameters\n",
    "cv2 = CountVectorizer(stop_words=stopwords, min_df = .02)\n",
    "#Apply the count vectorizer for the bag of words to the dataframe feature\n",
    "cv2_text = cv2.fit_transform(tweet_frame['TweetText'])\n",
    "#This is the feature space for TweetText\n",
    "print('Shape:', cv2_text.shape)\n",
    "#This is the type of matrix that is returned for TweetText\n",
    "print('Type:', type(cv2_text))"
   ]
  },
  {
   "cell_type": "code",
   "execution_count": 77,
   "metadata": {
    "colab": {
     "base_uri": "https://localhost:8080/",
     "height": 514
    },
    "colab_type": "code",
    "id": "BcDw7z_i4gGL",
    "outputId": "e6a7c61c-ed03-4fbe-ca6d-4d2c4d35c989"
   },
   "outputs": [
    {
     "data": {
      "text/html": [
       "<div>\n",
       "<style scoped>\n",
       "    .dataframe tbody tr th:only-of-type {\n",
       "        vertical-align: middle;\n",
       "    }\n",
       "\n",
       "    .dataframe tbody tr th {\n",
       "        vertical-align: top;\n",
       "    }\n",
       "\n",
       "    .dataframe thead th {\n",
       "        text-align: right;\n",
       "    }\n",
       "</style>\n",
       "<table border=\"1\" class=\"dataframe\">\n",
       "  <thead>\n",
       "    <tr style=\"text-align: right;\">\n",
       "      <th></th>\n",
       "      <th>count</th>\n",
       "    </tr>\n",
       "  </thead>\n",
       "  <tbody>\n",
       "    <tr>\n",
       "      <th>trump</th>\n",
       "      <td>727</td>\n",
       "    </tr>\n",
       "    <tr>\n",
       "      <th>str8donlemon</th>\n",
       "      <td>176</td>\n",
       "    </tr>\n",
       "    <tr>\n",
       "      <th>maga</th>\n",
       "      <td>133</td>\n",
       "    </tr>\n",
       "    <tr>\n",
       "      <th>president</th>\n",
       "      <td>119</td>\n",
       "    </tr>\n",
       "    <tr>\n",
       "      <th>realdonaldtrump</th>\n",
       "      <td>114</td>\n",
       "    </tr>\n",
       "    <tr>\n",
       "      <th>peacemomma67</th>\n",
       "      <td>107</td>\n",
       "    </tr>\n",
       "    <tr>\n",
       "      <th>missouri</th>\n",
       "      <td>92</td>\n",
       "    </tr>\n",
       "    <tr>\n",
       "      <th>mad</th>\n",
       "      <td>88</td>\n",
       "    </tr>\n",
       "    <tr>\n",
       "      <th>politics</th>\n",
       "      <td>85</td>\n",
       "    </tr>\n",
       "    <tr>\n",
       "      <th>asked</th>\n",
       "      <td>80</td>\n",
       "    </tr>\n",
       "    <tr>\n",
       "      <th>boy</th>\n",
       "      <td>79</td>\n",
       "    </tr>\n",
       "    <tr>\n",
       "      <th>kavanaugh</th>\n",
       "      <td>79</td>\n",
       "    </tr>\n",
       "    <tr>\n",
       "      <th>center</th>\n",
       "      <td>77</td>\n",
       "    </tr>\n",
       "    <tr>\n",
       "      <th>northcarolina</th>\n",
       "      <td>77</td>\n",
       "    </tr>\n",
       "    <tr>\n",
       "      <th>distribution</th>\n",
       "      <td>76</td>\n",
       "    </tr>\n",
       "  </tbody>\n",
       "</table>\n",
       "</div>"
      ],
      "text/plain": [
       "                 count\n",
       "trump              727\n",
       "str8donlemon       176\n",
       "maga               133\n",
       "president          119\n",
       "realdonaldtrump    114\n",
       "peacemomma67       107\n",
       "missouri            92\n",
       "mad                 88\n",
       "politics            85\n",
       "asked               80\n",
       "boy                 79\n",
       "kavanaugh           79\n",
       "center              77\n",
       "northcarolina       77\n",
       "distribution        76"
      ]
     },
     "execution_count": 77,
     "metadata": {
      "tags": []
     },
     "output_type": "execute_result"
    }
   ],
   "source": [
    "names = cv2.get_feature_names()   #create list of feature names\n",
    "\n",
    "count = np.sum(cv2_text.toarray(), axis = 0) # convert list to array to add up feature counts \n",
    "count2 = count.tolist()  # convert numpy array to list\n",
    "\n",
    "count_df = pd.DataFrame(count2, index = names, columns = ['count']) # create a dataframe from the list\n",
    "\n",
    "sorted_count = count_df.sort_values(['count'], ascending = False)\n",
    "sorted_count.head(15)"
   ]
  },
  {
   "cell_type": "markdown",
   "metadata": {
    "colab_type": "text",
    "id": "yAG2Em1VDCxA"
   },
   "source": [
    "## Sentiment Analysis\n",
    "\n",
    "Sentiment analysis will be performed to gain insight into the the tone of Tweets regarding Trump. The results will be used to generate a target variable for predictive modeling."
   ]
  },
  {
   "cell_type": "code",
   "execution_count": 78,
   "metadata": {
    "colab": {
     "base_uri": "https://localhost:8080/",
     "height": 103,
     "resources": {
      "http://localhost:8080/nbextensions/google.colab/files.js": {
       "data": "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",
       "headers": [
        [
         "content-type",
         "application/javascript"
        ]
       ],
       "ok": true,
       "status": 200,
       "status_text": ""
      }
     }
    },
    "colab_type": "code",
    "id": "f7Ia7pNOHWCl",
    "outputId": "293ee6e8-d4d9-4c18-b488-922a87001f93"
   },
   "outputs": [
    {
     "data": {
      "text/html": [
       "\n",
       "     <input type=\"file\" id=\"files-3830385f-20bb-4664-8ea6-96a2d2d944c1\" name=\"files[]\" multiple disabled />\n",
       "     <output id=\"result-3830385f-20bb-4664-8ea6-96a2d2d944c1\">\n",
       "      Upload widget is only available when the cell has been executed in the\n",
       "      current browser session. Please rerun this cell to enable.\n",
       "      </output>\n",
       "      <script src=\"/nbextensions/google.colab/files.js\"></script> "
      ],
      "text/plain": [
       "<IPython.core.display.HTML object>"
      ]
     },
     "metadata": {
      "tags": []
     },
     "output_type": "display_data"
    },
    {
     "name": "stdout",
     "output_type": "stream",
     "text": [
      "Saving AFINN-111.txt to AFINN-111 (1).txt\n",
      "Saving inquirerbasic.csv to inquirerbasic (1).csv\n"
     ]
    }
   ],
   "source": [
    "#Use google.colab to import dictionaries\n",
    "from google.colab import files\n",
    "\n",
    "#Choose file(s) to upload\n",
    "uploaded = files.upload()\n"
   ]
  },
  {
   "cell_type": "code",
   "execution_count": 79,
   "metadata": {
    "colab": {
     "base_uri": "https://localhost:8080/",
     "height": 51
    },
    "colab_type": "code",
    "id": "O3MlpbAla3x3",
    "outputId": "5471ffcc-1787-47e8-a34c-2bd4b1bbd35a"
   },
   "outputs": [
    {
     "name": "stdout",
     "output_type": "stream",
     "text": [
      "User uploaded file \"AFINN-111.txt\" with length 28093 bytes\n",
      "User uploaded file \"inquirerbasic.csv\" with length 2903900 bytes\n"
     ]
    }
   ],
   "source": [
    "#Run foreloop to execute the file upload\n",
    "for fn in uploaded.keys():\n",
    "  print('User uploaded file \"{name}\" with length {length} bytes'.format(\n",
    "      name=fn, length=len(uploaded[fn])))"
   ]
  },
  {
   "cell_type": "code",
   "execution_count": 80,
   "metadata": {
    "colab": {
     "base_uri": "https://localhost:8080/",
     "height": 391
    },
    "colab_type": "code",
    "id": "dLEOJXPlD_iC",
    "outputId": "6517bace-8b5d-42a4-d14d-de702792489c"
   },
   "outputs": [
    {
     "name": "stdout",
     "output_type": "stream",
     "text": [
      "<class 'dict'> 2477\n",
      "abandon => -2\n",
      "abandoned => -2\n",
      "abandons => -2\n",
      "abducted => -2\n",
      "abduction => -2\n",
      "abductions => -2\n",
      "abhor => -3\n",
      "abhorred => -3\n",
      "abhorrent => -3\n",
      "abhors => -3\n",
      "~~~~~~~~~~~~\n",
      "yeah => 1\n",
      "yearning => 1\n",
      "yeees => 2\n",
      "yes => 1\n",
      "youthful => 2\n",
      "yucky => -2\n",
      "yummy => 3\n",
      "zealot => -2\n",
      "zealots => -2\n",
      "zealous => 2\n"
     ]
    }
   ],
   "source": [
    "# Sentiment dictionary that assigns scores to words signifying their sentiment polarity or neutrality\n",
    "\n",
    "afinn = {}\n",
    "for line in open(\"AFINN-111.txt\"):\n",
    "    tt = line.split('\\t')\n",
    "    afinn.update({tt[0]:int(tt[1])})\n",
    "\n",
    "\n",
    "print(type(afinn), len(afinn))\n",
    "\n",
    "for key, value in sorted(afinn.items())[0:10]:\n",
    "    print(key + \" => \" + str(value))\n",
    "print(\"~~~~~~~~~~~~\")\n",
    "for key, value in sorted(afinn.items())[2467:]:\n",
    "    print(key + \" => \" + str(value))"
   ]
  },
  {
   "cell_type": "code",
   "execution_count": 0,
   "metadata": {
    "colab": {},
    "colab_type": "code",
    "id": "jcOVDZq5teJ4"
   },
   "outputs": [],
   "source": [
    "# here we are going for strictly the sum:  add up the positives and \"subtract\" the negatives\n",
    "# you can return a number or a label\n",
    "\n",
    "def afinn_sent(inputstring):\n",
    "    \n",
    "    sentcount =0\n",
    "    for word in inputstring.split():  \n",
    "        if word.rstrip('?:!.,;') in afinn:\n",
    "            sentcount = sentcount + afinn[word.rstrip('?:!.,;')]\n",
    "            \n",
    "    \n",
    "    if (sentcount < 0):\n",
    "        sentiment = 'Negative'\n",
    "    elif (sentcount >0):\n",
    "        sentiment = 'Positive'\n",
    "    else:\n",
    "        sentiment = 'Neutral'\n",
    "    \n",
    "    return sentiment\n",
    "    #return sentcount"
   ]
  },
  {
   "cell_type": "markdown",
   "metadata": {
    "colab_type": "text",
    "id": "agv5flZute5p"
   },
   "source": [
    "# T1 - Create Target Variable"
   ]
  },
  {
   "cell_type": "code",
   "execution_count": 1,
   "metadata": {
    "colab": {
     "base_uri": "https://localhost:8080/",
     "height": 201
    },
    "colab_type": "code",
    "id": "OQjWA7VTthLO",
    "outputId": "f502c35b-535f-4ea1-80a4-5865ad2158d2"
   },
   "outputs": [
    {
     "ename": "NameError",
     "evalue": "ignored",
     "output_type": "error",
     "traceback": [
      "\u001b[0;31m---------------------------------------------------------------------------\u001b[0m",
      "\u001b[0;31mNameError\u001b[0m                                 Traceback (most recent call last)",
      "\u001b[0;32m<ipython-input-1-34356af29910>\u001b[0m in \u001b[0;36m<module>\u001b[0;34m()\u001b[0m\n\u001b[0;32m----> 1\u001b[0;31m \u001b[0mtweet_frame\u001b[0m\u001b[0;34m[\u001b[0m\u001b[0;34m'afinn'\u001b[0m\u001b[0;34m]\u001b[0m \u001b[0;34m=\u001b[0m \u001b[0mtweet_frame\u001b[0m\u001b[0;34m[\u001b[0m\u001b[0;34m\"TweetText\"\u001b[0m\u001b[0;34m]\u001b[0m\u001b[0;34m.\u001b[0m\u001b[0mapply\u001b[0m\u001b[0;34m(\u001b[0m\u001b[0;32mlambda\u001b[0m \u001b[0mx\u001b[0m\u001b[0;34m:\u001b[0m \u001b[0mafinn_sent\u001b[0m\u001b[0;34m(\u001b[0m\u001b[0mx\u001b[0m\u001b[0;34m)\u001b[0m\u001b[0;34m)\u001b[0m\u001b[0;34m\u001b[0m\u001b[0m\n\u001b[0m\u001b[1;32m      2\u001b[0m \u001b[0mprint\u001b[0m\u001b[0;34m(\u001b[0m\u001b[0mtype\u001b[0m\u001b[0;34m(\u001b[0m\u001b[0mtweet_frame\u001b[0m\u001b[0;34m[\u001b[0m\u001b[0;34m'TweetText'\u001b[0m\u001b[0;34m]\u001b[0m\u001b[0;34m)\u001b[0m\u001b[0;34m)\u001b[0m\u001b[0;34m\u001b[0m\u001b[0m\n",
      "\u001b[0;31mNameError\u001b[0m: name 'tweet_frame' is not defined"
     ]
    }
   ],
   "source": [
    "tweet_frame['afinn'] = tweet_frame[\"TweetText\"].apply(lambda x: afinn_sent(x))\n",
    "print(type(tweet_frame['TweetText']))"
   ]
  },
  {
   "cell_type": "code",
   "execution_count": 83,
   "metadata": {
    "colab": {
     "base_uri": "https://localhost:8080/",
     "height": 464
    },
    "colab_type": "code",
    "id": "-zoWBfEwtjdo",
    "outputId": "ebb11db8-8ab6-444a-8aff-45336cb9244b"
   },
   "outputs": [
    {
     "data": {
      "text/html": [
       "<div>\n",
       "<style scoped>\n",
       "    .dataframe tbody tr th:only-of-type {\n",
       "        vertical-align: middle;\n",
       "    }\n",
       "\n",
       "    .dataframe tbody tr th {\n",
       "        vertical-align: top;\n",
       "    }\n",
       "\n",
       "    .dataframe thead th {\n",
       "        text-align: right;\n",
       "    }\n",
       "</style>\n",
       "<table border=\"1\" class=\"dataframe\">\n",
       "  <thead>\n",
       "    <tr style=\"text-align: right;\">\n",
       "      <th></th>\n",
       "      <th>TweetText</th>\n",
       "      <th>afinn</th>\n",
       "    </tr>\n",
       "  </thead>\n",
       "  <tbody>\n",
       "    <tr>\n",
       "      <th>0</th>\n",
       "      <td>RT @Jesus_isPeace: Prof who tweeted about teaching “future dead #cops” &amp;amp; assassinating #Trump &amp;amp; #Pence is founder of group that harassed #C…</td>\n",
       "      <td>Negative</td>\n",
       "    </tr>\n",
       "    <tr>\n",
       "      <th>1</th>\n",
       "      <td>Prof who tweeted about teaching “future dead #cops” &amp;amp; assassinating #Trump &amp;amp; #Pence is founder of group that harass… https://t.co/tBFatD9nz1</td>\n",
       "      <td>Negative</td>\n",
       "    </tr>\n",
       "    <tr>\n",
       "      <th>2</th>\n",
       "      <td>RT @Jesus_isPeace: #Trump Admin Cancels #FDA Contract to Purchase Body Parts of #AbortedBabies for Tax-Funded Research....\\n\\n#AbortionMurder…</td>\n",
       "      <td>Neutral</td>\n",
       "    </tr>\n",
       "    <tr>\n",
       "      <th>3</th>\n",
       "      <td>#Trump Admin Cancels #FDA Contract to Purchase Body Parts of #AbortedBabies for Tax-Funded Research....… https://t.co/30Mx4ypKJZ</td>\n",
       "      <td>Neutral</td>\n",
       "    </tr>\n",
       "    <tr>\n",
       "      <th>4</th>\n",
       "      <td>RT @Jesus_isPeace: #BrettKavanaugh Smear Motive Revealed: #Democratic Operative Admits Derailing #KavanaughHearing is Really About Saving #…</td>\n",
       "      <td>Neutral</td>\n",
       "    </tr>\n",
       "    <tr>\n",
       "      <th>5</th>\n",
       "      <td>RT @Jesus_isPeace: #BrettKavanaugh Smear Motive Revealed: #Democratic Operative Admits Derailing #KavanaughHearing is Really About Saving #…</td>\n",
       "      <td>Neutral</td>\n",
       "    </tr>\n",
       "    <tr>\n",
       "      <th>6</th>\n",
       "      <td>RT @Jesus_isPeace: #BrettKavanaugh Smear Motive Revealed: #Democratic Operative Admits Derailing #KavanaughHearing is Really About Saving #…</td>\n",
       "      <td>Neutral</td>\n",
       "    </tr>\n",
       "    <tr>\n",
       "      <th>7</th>\n",
       "      <td>#BrettKavanaugh Smear Motive Revealed: #Democratic Operative Admits Derailing #KavanaughHearing is Really About Sav… https://t.co/76aT5sf83g</td>\n",
       "      <td>Neutral</td>\n",
       "    </tr>\n",
       "    <tr>\n",
       "      <th>8</th>\n",
       "      <td>In response from Trump #TrumpPressConference #Trump https://t.co/xRDP398kv7</td>\n",
       "      <td>Neutral</td>\n",
       "    </tr>\n",
       "  </tbody>\n",
       "</table>\n",
       "</div>"
      ],
      "text/plain": [
       "                                                                                                                                              TweetText  \\\n",
       "0  RT @Jesus_isPeace: Prof who tweeted about teaching “future dead #cops” &amp; assassinating #Trump &amp; #Pence is founder of group that harassed #C…   \n",
       "1  Prof who tweeted about teaching “future dead #cops” &amp; assassinating #Trump &amp; #Pence is founder of group that harass… https://t.co/tBFatD9nz1   \n",
       "2        RT @Jesus_isPeace: #Trump Admin Cancels #FDA Contract to Purchase Body Parts of #AbortedBabies for Tax-Funded Research....\\n\\n#AbortionMurder…   \n",
       "3                      #Trump Admin Cancels #FDA Contract to Purchase Body Parts of #AbortedBabies for Tax-Funded Research....… https://t.co/30Mx4ypKJZ   \n",
       "4          RT @Jesus_isPeace: #BrettKavanaugh Smear Motive Revealed: #Democratic Operative Admits Derailing #KavanaughHearing is Really About Saving #…   \n",
       "5          RT @Jesus_isPeace: #BrettKavanaugh Smear Motive Revealed: #Democratic Operative Admits Derailing #KavanaughHearing is Really About Saving #…   \n",
       "6          RT @Jesus_isPeace: #BrettKavanaugh Smear Motive Revealed: #Democratic Operative Admits Derailing #KavanaughHearing is Really About Saving #…   \n",
       "7          #BrettKavanaugh Smear Motive Revealed: #Democratic Operative Admits Derailing #KavanaughHearing is Really About Sav… https://t.co/76aT5sf83g   \n",
       "8                                                                           In response from Trump #TrumpPressConference #Trump https://t.co/xRDP398kv7   \n",
       "\n",
       "      afinn  \n",
       "0  Negative  \n",
       "1  Negative  \n",
       "2   Neutral  \n",
       "3   Neutral  \n",
       "4   Neutral  \n",
       "5   Neutral  \n",
       "6   Neutral  \n",
       "7   Neutral  \n",
       "8   Neutral  "
      ]
     },
     "execution_count": 83,
     "metadata": {
      "tags": []
     },
     "output_type": "execute_result"
    }
   ],
   "source": [
    "tweet_frame.iloc[0:9][['TweetText','afinn']]"
   ]
  },
  {
   "cell_type": "code",
   "execution_count": 84,
   "metadata": {
    "colab": {
     "base_uri": "https://localhost:8080/",
     "height": 577
    },
    "colab_type": "code",
    "id": "velZXrbQtmof",
    "outputId": "bb49865e-e766-4fad-f9a2-44170bc1b4dd"
   },
   "outputs": [
    {
     "data": {
      "text/html": [
       "<div>\n",
       "<style scoped>\n",
       "    .dataframe tbody tr th:only-of-type {\n",
       "        vertical-align: middle;\n",
       "    }\n",
       "\n",
       "    .dataframe tbody tr th {\n",
       "        vertical-align: top;\n",
       "    }\n",
       "\n",
       "    .dataframe thead th {\n",
       "        text-align: right;\n",
       "    }\n",
       "</style>\n",
       "<table border=\"1\" class=\"dataframe\">\n",
       "  <thead>\n",
       "    <tr style=\"text-align: right;\">\n",
       "      <th></th>\n",
       "      <th>TweetText</th>\n",
       "      <th>afinn</th>\n",
       "    </tr>\n",
       "  </thead>\n",
       "  <tbody>\n",
       "    <tr>\n",
       "      <th>490</th>\n",
       "      <td>Excited to see President Trump today! To all those that are going to protest, you will make no impact on anything a… https://t.co/QmEaAWBuxm</td>\n",
       "      <td>Negative</td>\n",
       "    </tr>\n",
       "    <tr>\n",
       "      <th>491</th>\n",
       "      <td>I mean, I'm not a huge #trump or #Kavanaugh guy, but is he being asked to defend himself against unknown allegation… https://t.co/Lvv4wwhWBk</td>\n",
       "      <td>Positive</td>\n",
       "    </tr>\n",
       "    <tr>\n",
       "      <th>492</th>\n",
       "      <td>RT @TeamDean: Will President #Trump’s nudge tonight finally force @RosenforNevada to answer @DeanHeller’s challenge? https://t.co/CXmmnzm1Y…</td>\n",
       "      <td>Negative</td>\n",
       "    </tr>\n",
       "    <tr>\n",
       "      <th>493</th>\n",
       "      <td>RT @TeamDean: Will President #Trump’s nudge tonight finally force @RosenforNevada to answer @DeanHeller’s challenge? https://t.co/CXmmnzm1Y…</td>\n",
       "      <td>Negative</td>\n",
       "    </tr>\n",
       "    <tr>\n",
       "      <th>494</th>\n",
       "      <td>RT @TeamDean: Will President #Trump’s nudge tonight finally force @RosenforNevada to answer @DeanHeller’s challenge? https://t.co/CXmmnzm1Y…</td>\n",
       "      <td>Negative</td>\n",
       "    </tr>\n",
       "    <tr>\n",
       "      <th>495</th>\n",
       "      <td>RT @TeamDean: Will President #Trump’s nudge tonight finally force @RosenforNevada to answer @DeanHeller’s challenge? https://t.co/CXmmnzm1Y…</td>\n",
       "      <td>Negative</td>\n",
       "    </tr>\n",
       "    <tr>\n",
       "      <th>496</th>\n",
       "      <td>RT @TeamDean: Will President #Trump’s nudge tonight finally force @RosenforNevada to answer @DeanHeller’s challenge? https://t.co/CXmmnzm1Y…</td>\n",
       "      <td>Negative</td>\n",
       "    </tr>\n",
       "    <tr>\n",
       "      <th>497</th>\n",
       "      <td>@CChristineFair Wow you got Trump Derangement Syndrome real bad.....oh we are not snowflakes...that would be you sc… https://t.co/nyN9DfBhBW</td>\n",
       "      <td>Neutral</td>\n",
       "    </tr>\n",
       "    <tr>\n",
       "      <th>498</th>\n",
       "      <td>Dear #ClaireMcCaskill ,\\n\\n     Your offical Dear John letter.  We never thought about you much, you were just there.… https://t.co/OyDEMZcp2x</td>\n",
       "      <td>Neutral</td>\n",
       "    </tr>\n",
       "    <tr>\n",
       "      <th>499</th>\n",
       "      <td>RT @ForOurFutureNV: Working Nevadans are out on the streets, standing up to the #Trump agenda. We're going forward, not backward. #StopKava…</td>\n",
       "      <td>Neutral</td>\n",
       "    </tr>\n",
       "    <tr>\n",
       "      <th>500</th>\n",
       "      <td>Early leader for tweet of the day (though its from  yesterday)....\\n\\nespecially the #trump fans in #KC! https://t.co/KMyK717deA</td>\n",
       "      <td>Neutral</td>\n",
       "    </tr>\n",
       "  </tbody>\n",
       "</table>\n",
       "</div>"
      ],
      "text/plain": [
       "                                                                                                                                          TweetText  \\\n",
       "490    Excited to see President Trump today! To all those that are going to protest, you will make no impact on anything a… https://t.co/QmEaAWBuxm   \n",
       "491    I mean, I'm not a huge #trump or #Kavanaugh guy, but is he being asked to defend himself against unknown allegation… https://t.co/Lvv4wwhWBk   \n",
       "492    RT @TeamDean: Will President #Trump’s nudge tonight finally force @RosenforNevada to answer @DeanHeller’s challenge? https://t.co/CXmmnzm1Y…   \n",
       "493    RT @TeamDean: Will President #Trump’s nudge tonight finally force @RosenforNevada to answer @DeanHeller’s challenge? https://t.co/CXmmnzm1Y…   \n",
       "494    RT @TeamDean: Will President #Trump’s nudge tonight finally force @RosenforNevada to answer @DeanHeller’s challenge? https://t.co/CXmmnzm1Y…   \n",
       "495    RT @TeamDean: Will President #Trump’s nudge tonight finally force @RosenforNevada to answer @DeanHeller’s challenge? https://t.co/CXmmnzm1Y…   \n",
       "496    RT @TeamDean: Will President #Trump’s nudge tonight finally force @RosenforNevada to answer @DeanHeller’s challenge? https://t.co/CXmmnzm1Y…   \n",
       "497    @CChristineFair Wow you got Trump Derangement Syndrome real bad.....oh we are not snowflakes...that would be you sc… https://t.co/nyN9DfBhBW   \n",
       "498  Dear #ClaireMcCaskill ,\\n\\n     Your offical Dear John letter.  We never thought about you much, you were just there.… https://t.co/OyDEMZcp2x   \n",
       "499    RT @ForOurFutureNV: Working Nevadans are out on the streets, standing up to the #Trump agenda. We're going forward, not backward. #StopKava…   \n",
       "500                Early leader for tweet of the day (though its from  yesterday)....\\n\\nespecially the #trump fans in #KC! https://t.co/KMyK717deA   \n",
       "\n",
       "        afinn  \n",
       "490  Negative  \n",
       "491  Positive  \n",
       "492  Negative  \n",
       "493  Negative  \n",
       "494  Negative  \n",
       "495  Negative  \n",
       "496  Negative  \n",
       "497   Neutral  \n",
       "498   Neutral  \n",
       "499   Neutral  \n",
       "500   Neutral  "
      ]
     },
     "execution_count": 84,
     "metadata": {
      "tags": []
     },
     "output_type": "execute_result"
    }
   ],
   "source": [
    "tweet_frame.iloc[490:501][['TweetText','afinn']]"
   ]
  },
  {
   "cell_type": "markdown",
   "metadata": {
    "colab_type": "text",
    "id": "kDTmffAItrQv"
   },
   "source": [
    "Viewing some of the Tweets and their sentiment labels as ascribed by the afinn dictionary, it is unclear how to interpret the labels' accuracies. It is no surprise that the conversation around Trump is contentious, with many Tweets attacking the president and others defending him. This poses some difficulty in the senitment labeling of some Tweets. Strong language of those \"loving to hate\" Trump praise condemning articles or Tweets against the president, with those being labeled as positive. Similarly, those who defend Trump by condemning attacks against the president are labeled as negative. The sentiment labels may more accurately describe the general tone of conversation around Trump rather than people's direct attitudes towards him."
   ]
  },
  {
   "cell_type": "markdown",
   "metadata": {
    "colab_type": "text",
    "id": "vbuJHOgittDQ"
   },
   "source": [
    "# Predictive Modeling\n",
    "\n",
    "### What is the distribution of the target variable?"
   ]
  },
  {
   "cell_type": "code",
   "execution_count": 85,
   "metadata": {
    "colab": {
     "base_uri": "https://localhost:8080/",
     "height": 312
    },
    "colab_type": "code",
    "id": "nZtuxlIitogC",
    "outputId": "5fb265b3-c6e9-406e-8a5b-3e9d0490801d"
   },
   "outputs": [
    {
     "data": {
      "text/plain": [
       "<matplotlib.axes._subplots.AxesSubplot at 0x7f1e9283bcc0>"
      ]
     },
     "execution_count": 85,
     "metadata": {
      "tags": []
     },
     "output_type": "execute_result"
    },
    {
     "data": {
      "image/png": "[encoded data removed]",
      "text/plain": [
       "<matplotlib.figure.Figure at 0x7f1e9290bc18>"
      ]
     },
     "metadata": {
      "tags": []
     },
     "output_type": "display_data"
    }
   ],
   "source": [
    "# What does our target variable look like?\n",
    "%matplotlib inline\n",
    "import matplotlib as mpl\n",
    "import matplotlib.pyplot as plt\n",
    "\n",
    "# get a feel for the distribution\n",
    "tweet_frame['afinn'].value_counts().plot(kind='bar')"
   ]
  },
  {
   "cell_type": "markdown",
   "metadata": {
    "colab_type": "text",
    "id": "BKMdmpZst1W0"
   },
   "source": [
    "### Split dataset into train and test"
   ]
  },
  {
   "cell_type": "code",
   "execution_count": 86,
   "metadata": {
    "colab": {
     "base_uri": "https://localhost:8080/",
     "height": 51
    },
    "colab_type": "code",
    "id": "Y-eHeUoEtzVv",
    "outputId": "1e450d81-8c19-4bca-aeaf-dd1d3e1eb31d"
   },
   "outputs": [
    {
     "name": "stdout",
     "output_type": "stream",
     "text": [
      "<class 'numpy.ndarray'>\n",
      "<class 'numpy.ndarray'>\n"
     ]
    }
   ],
   "source": [
    "# train test split\n",
    "# data are X, labels are y\n",
    "from sklearn.model_selection import train_test_split\n",
    "\n",
    "X = cv2_text.toarray()  #remember this is the output from the vectorizer and we are turning it into an array\n",
    "print(type(X))\n",
    "\n",
    "\n",
    "y = tweet_frame['afinn'].values #this is an array of labels\n",
    "print(type(y))"
   ]
  },
  {
   "cell_type": "code",
   "execution_count": 87,
   "metadata": {
    "colab": {
     "base_uri": "https://localhost:8080/",
     "height": 85
    },
    "colab_type": "code",
    "id": "4dhON1Vht8x_",
    "outputId": "87840c64-7130-47ac-e618-f9d5e640173e"
   },
   "outputs": [
    {
     "name": "stdout",
     "output_type": "stream",
     "text": [
      "(749, 98)\n",
      "(321, 98)\n",
      "(749,)\n",
      "(321,)\n"
     ]
    }
   ],
   "source": [
    "X_train, X_test, y_train, y_test = train_test_split(X, y, test_size=0.30, random_state=42) #random_state is set seed\n",
    "\n",
    "# function creates 4 output structures - order matters\n",
    "print(X_train.shape)\n",
    "print(X_test.shape)\n",
    "print(y_train.shape)\n",
    "print(y_test.shape)"
   ]
  },
  {
   "cell_type": "markdown",
   "metadata": {
    "colab_type": "text",
    "id": "iM3o0OMVt9ny"
   },
   "source": [
    "# T1 - Baseline Models"
   ]
  },
  {
   "cell_type": "markdown",
   "metadata": {
    "colab_type": "text",
    "id": "s59mQDkuuAdX"
   },
   "source": [
    "## Decision Tree"
   ]
  },
  {
   "cell_type": "code",
   "execution_count": 88,
   "metadata": {
    "colab": {
     "base_uri": "https://localhost:8080/",
     "height": 309
    },
    "colab_type": "code",
    "id": "VtmNEBS4t_6R",
    "outputId": "91c80214-9859-4018-fba6-cfd5ffb88c0b"
   },
   "outputs": [
    {
     "name": "stdout",
     "output_type": "stream",
     "text": [
      "DecisionTreeClassifier(class_weight=None, criterion='gini', max_depth=None,\n",
      "            max_features=None, max_leaf_nodes=None,\n",
      "            min_impurity_decrease=0.0, min_impurity_split=None,\n",
      "            min_samples_leaf=1, min_samples_split=2,\n",
      "            min_weight_fraction_leaf=0.0, presort=False, random_state=42,\n",
      "            splitter='best')\n",
      "0.7289719626168224\n",
      "accuracy: 0.7289719626168224\n",
      "             precision    recall  f1-score   support\n",
      "\n",
      "   Negative       0.77      0.51      0.62        72\n",
      "    Neutral       0.73      0.89      0.80       190\n",
      "   Positive       0.67      0.47      0.55        59\n",
      "\n",
      "avg / total       0.73      0.73      0.72       321\n",
      "\n"
     ]
    }
   ],
   "source": [
    "from sklearn import metrics\n",
    "from sklearn.tree import DecisionTreeClassifier\n",
    "\n",
    "# fit a Decision Tree model to the data\n",
    "model = DecisionTreeClassifier(random_state = 42)\n",
    "print(model)\n",
    "model.fit(X_train, y_train)\n",
    "\n",
    "# make predictions\n",
    "clf1_expected = y_test\n",
    "clf1_predicted = model.predict(X_test)\n",
    "\n",
    "print(model.score(X_test, y_test))\n",
    "\n",
    "# summarize the fit of the model\n",
    "print(\"accuracy: \" + str(metrics.accuracy_score(clf1_expected, clf1_predicted)))\n",
    "print(metrics.classification_report(clf1_expected, clf1_predicted))"
   ]
  },
  {
   "cell_type": "markdown",
   "metadata": {
    "colab_type": "text",
    "id": "0_CeWVPsuI1g"
   },
   "source": [
    "The decision tree performed very well with a .873 overall accuracy and a .87 average f1 score. The recall for the positive class was significantly lower than the neutral or negative classes, which is unsurprising due to its minority status in the dataset. "
   ]
  },
  {
   "cell_type": "markdown",
   "metadata": {
    "colab_type": "text",
    "id": "1insNGazuKwv"
   },
   "source": [
    "#### Confusion Matrix"
   ]
  },
  {
   "cell_type": "code",
   "execution_count": 89,
   "metadata": {
    "colab": {
     "base_uri": "https://localhost:8080/",
     "height": 327
    },
    "colab_type": "code",
    "id": "5FR7ElkguJWu",
    "outputId": "bf1d7535-189a-4b82-c9ca-f668be309829"
   },
   "outputs": [
    {
     "data": {
      "image/png": "[encoded data removed]",
      "text/plain": [
       "<matplotlib.figure.Figure at 0x7f1e9283b9b0>"
      ]
     },
     "metadata": {
      "tags": []
     },
     "output_type": "display_data"
    },
    {
     "name": "stdout",
     "output_type": "stream",
     "text": [
      "[[ 37  32   3]\n",
      " [ 10 169  11]\n",
      " [  1  30  28]]\n"
     ]
    }
   ],
   "source": [
    "# display confusion matrix\n",
    "def create_cm(t1, t2):\n",
    "    cm = metrics.confusion_matrix(t1, t2)\n",
    "    plt.matshow(cm)\n",
    "    plt.title('Confusion matrix')\n",
    "    plt.colorbar()\n",
    "    plt.ylabel('True label')\n",
    "    plt.xlabel('Predicted label')\n",
    "    plt.show()\n",
    "    print(cm)\n",
    "\n",
    "create_cm(clf1_expected, clf1_predicted)"
   ]
  },
  {
   "cell_type": "markdown",
   "metadata": {
    "colab_type": "text",
    "id": "avz9iRENuSKc"
   },
   "source": [
    "## Naïve Bayes"
   ]
  },
  {
   "cell_type": "code",
   "execution_count": 90,
   "metadata": {
    "colab": {
     "base_uri": "https://localhost:8080/",
     "height": 224
    },
    "colab_type": "code",
    "id": "MEJCspHZuSlz",
    "outputId": "a5cd3a86-2908-4584-e6ec-0f6181908b2a"
   },
   "outputs": [
    {
     "name": "stdout",
     "output_type": "stream",
     "text": [
      "MultinomialNB(alpha=1.0, class_prior=None, fit_prior=True)\n",
      "0.6697819314641744\n",
      "accuracy: 0.6697819314641744\n",
      "             precision    recall  f1-score   support\n",
      "\n",
      "   Negative       0.74      0.40      0.52        72\n",
      "    Neutral       0.70      0.86      0.77       190\n",
      "   Positive       0.46      0.37      0.41        59\n",
      "\n",
      "avg / total       0.67      0.67      0.65       321\n",
      "\n"
     ]
    }
   ],
   "source": [
    "# Multinomial Naive Bayes\n",
    "from sklearn.naive_bayes import MultinomialNB\n",
    "\n",
    "# fit a Naive Bayes model to the data\n",
    "model = MultinomialNB()\n",
    "print(model)\n",
    "model.fit(X_train, y_train)\n",
    "\n",
    "# make predictions\n",
    "clf2_expected = y_test\n",
    "clf2_predicted = model.predict(X_test)\n",
    "\n",
    "print(model.score(X_test, y_test))\n",
    "\n",
    "# summarize the fit of the model\n",
    "print(\"accuracy: \" + str(metrics.accuracy_score(clf2_expected, clf2_predicted)))\n",
    "print(metrics.classification_report(clf2_expected, clf2_predicted))"
   ]
  },
  {
   "cell_type": "markdown",
   "metadata": {
    "colab_type": "text",
    "id": "jeV52XRquWby"
   },
   "source": [
    "The Naive Bayes model performed significantly worse than the decision tree. Overall accuracy was only .72 and the neutral recall decreased to .63. The positive class recall increased to .71, though precision decreased to .25. This means that the model classified many more observations as belonging to the positive class which led to more true positive claassifications, but also a large amount of neutral observations being misclassified as positive. "
   ]
  },
  {
   "cell_type": "markdown",
   "metadata": {
    "colab_type": "text",
    "id": "o-M2pnNWuXvh"
   },
   "source": [
    "#### Confusion Matrix"
   ]
  },
  {
   "cell_type": "code",
   "execution_count": 91,
   "metadata": {
    "colab": {
     "base_uri": "https://localhost:8080/",
     "height": 327
    },
    "colab_type": "code",
    "id": "R5-vYdVruXXJ",
    "outputId": "da4ea225-5f65-4ba6-fe4a-3f321fff3450"
   },
   "outputs": [
    {
     "data": {
      "image/png": "[encoded data removed]",
      "text/plain": [
       "<matplotlib.figure.Figure at 0x7f1e9292c4e0>"
      ]
     },
     "metadata": {
      "tags": []
     },
     "output_type": "display_data"
    },
    {
     "name": "stdout",
     "output_type": "stream",
     "text": [
      "[[ 29  36   7]\n",
      " [  7 164  19]\n",
      " [  3  34  22]]\n"
     ]
    }
   ],
   "source": [
    "create_cm(clf2_expected, clf2_predicted)"
   ]
  },
  {
   "cell_type": "markdown",
   "metadata": {
    "colab_type": "text",
    "id": "4G-6ROsruj2c"
   },
   "source": [
    "## Logistic Regression"
   ]
  },
  {
   "cell_type": "code",
   "execution_count": 92,
   "metadata": {
    "colab": {
     "base_uri": "https://localhost:8080/",
     "height": 275
    },
    "colab_type": "code",
    "id": "n6b1pwOIucii",
    "outputId": "a323f18b-5651-4274-a38c-ae9a9ec07f61"
   },
   "outputs": [
    {
     "name": "stdout",
     "output_type": "stream",
     "text": [
      "LogisticRegression(C=1.0, class_weight=None, dual=False, fit_intercept=True,\n",
      "          intercept_scaling=1, max_iter=100, multi_class='ovr', n_jobs=1,\n",
      "          penalty='l2', random_state=42, solver='liblinear', tol=0.0001,\n",
      "          verbose=0, warm_start=False)\n",
      "0.7570093457943925\n",
      "accuracy: 0.7570093457943925\n",
      "             precision    recall  f1-score   support\n",
      "\n",
      "   Negative       0.97      0.40      0.57        72\n",
      "    Neutral       0.72      0.97      0.83       190\n",
      "   Positive       0.83      0.49      0.62        59\n",
      "\n",
      "avg / total       0.80      0.76      0.73       321\n",
      "\n"
     ]
    }
   ],
   "source": [
    "# Logistic Regression\n",
    "from sklearn.linear_model import LogisticRegression\n",
    "\n",
    "# fit a logistic regression model to the data\n",
    "model = LogisticRegression(random_state = 42)\n",
    "print(model)\n",
    "model.fit(X_train, y_train)\n",
    "\n",
    "# make predictions\n",
    "clf3_expected = y_test\n",
    "clf3_predicted = model.predict(X_test)\n",
    "\n",
    "print(model.score(X_test, y_test))\n",
    "\n",
    "# summarize the fit of the model\n",
    "print(\"accuracy: \" + str(metrics.accuracy_score(clf3_expected, clf3_predicted)))\n",
    "print(metrics.classification_report(clf3_expected, clf3_predicted))"
   ]
  },
  {
   "cell_type": "markdown",
   "metadata": {
    "colab_type": "text",
    "id": "eXvDpZovurNw"
   },
   "source": [
    "The logistic regression model preformed mich better than Naive Bayes, but slightly worse than the decision tree in overall accuracy. The primary shortcoming of this model is that the positive class recall was only .56, meaning that just over half of the positive class instances were identified."
   ]
  },
  {
   "cell_type": "markdown",
   "metadata": {
    "colab_type": "text",
    "id": "Ott0UYAQurv-"
   },
   "source": [
    "#### Confusion Matrix"
   ]
  },
  {
   "cell_type": "code",
   "execution_count": 93,
   "metadata": {
    "colab": {
     "base_uri": "https://localhost:8080/",
     "height": 333
    },
    "colab_type": "code",
    "id": "NjcsBuEkuuHs",
    "outputId": "54b06b81-827a-47a2-bd6b-8bc02470b6b1"
   },
   "outputs": [
    {
     "data": {
      "image/png": "[encoded data removed]",
      "text/plain": [
       "<matplotlib.figure.Figure at 0x7f1e927a79e8>"
      ]
     },
     "metadata": {
      "tags": []
     },
     "output_type": "display_data"
    },
    {
     "name": "stdout",
     "output_type": "stream",
     "text": [
      "[[ 29  41   2]\n",
      " [  1 185   4]\n",
      " [  0  30  29]]\n"
     ]
    }
   ],
   "source": [
    "create_cm(clf3_expected, clf3_predicted)"
   ]
  },
  {
   "cell_type": "markdown",
   "metadata": {
    "colab_type": "text",
    "id": "fSIXihA3YsE2"
   },
   "source": [
    "## K-Nearest Neighbors\n",
    "\n",
    "This model usess the scikit-learn library algotithm defined with function and parameters: \n",
    "** class sklearn.neighbors.KNeighborsClassifier(n_neighbors=5, weights='uniform', algorithm='auto', leaf_size=30, p=2, metric='minkowski', metric_params=None, n_jobs=1, kwargs)[source] **\n",
    "\n",
    "Arguments:\n",
    "* n_neighbors - number of neighbors to check\n",
    "* weights - weight function used in prediction. \n",
    "* Possible values:\n",
    "    * ‘uniform’ : uniform weights. All points in each neighborhood are weighted equally.\n",
    "    * ‘distance’ : weight points by the inverse of their distance. in this case, closer neighbors of a query point will have a greater influence than neighbors which are further away.\n",
    "    * These are NOT the same as TfIdf weights\n",
    "* metric : distance metric with the default setting = ‘minkowski’. \"Minkowski distance is a metric in a normed vector space which can be considered as a generalization of both the Euclidean distance and the Manhattan distance.\" (Wikipedia)\n",
    "* p: power parameter for the Minkowski metric. When p = 1, this is equivalent to using manhattan_distance (l1), and euclidean_distance (l2) for p = 2. \n",
    "\n",
    "Default settings are k=5, weights = uniform, minkowski distance with p = 2 => Euclidean distance\n",
    "\n",
    "The following code block imports this predictive model with a defined training and testing dataset. The output indicates the classification model's accuracy, precision, recall, f1-score, and support."
   ]
  },
  {
   "cell_type": "code",
   "execution_count": 94,
   "metadata": {
    "colab": {
     "base_uri": "https://localhost:8080/",
     "height": 170
    },
    "colab_type": "code",
    "id": "xeV4_WZmY8wj",
    "outputId": "ffc4ae2d-e481-4a5f-9241-bced1a8a4098"
   },
   "outputs": [
    {
     "name": "stdout",
     "output_type": "stream",
     "text": [
      "accuracy: 0.7289719626168224\n",
      "             precision    recall  f1-score   support\n",
      "\n",
      "   Negative       0.79      0.42      0.55        72\n",
      "    Neutral       0.71      0.95      0.81       190\n",
      "   Positive       0.77      0.41      0.53        59\n",
      "\n",
      "avg / total       0.74      0.73      0.70       321\n",
      "\n"
     ]
    }
   ],
   "source": [
    "#Load KNN predictive model library\n",
    "from sklearn.neighbors import KNeighborsClassifier\n",
    "#Define predictive model with default parameters of n_neighbors = 3\n",
    "KNN = KNeighborsClassifier()\n",
    "#Fit training and testing datasets to model\n",
    "KNN.fit(X_train, y_train)\n",
    "#Test the model by comparing predictions to the test actuals\n",
    "KNN_expected = y_test\n",
    "KNN_predicted = KNN.predict(X_test)\n",
    "#Show measures of prediction\n",
    "print(\"accuracy: \" + str(metrics.accuracy_score(KNN_expected, KNN_predicted)))\n",
    "print(metrics.classification_report(KNN_expected, KNN_predicted))"
   ]
  },
  {
   "cell_type": "markdown",
   "metadata": {
    "colab_type": "text",
    "id": "xbeb_rqGY5sY"
   },
   "source": [
    "#### Confusion Matrix\n",
    "\n",
    "The K-Nearest Neighbors model with default parameters creates a confusion matrix containing the values of true and false lables, representing the predictive accuracy."
   ]
  },
  {
   "cell_type": "code",
   "execution_count": 95,
   "metadata": {
    "colab": {
     "base_uri": "https://localhost:8080/",
     "height": 309
    },
    "colab_type": "code",
    "id": "6hJ8s6aJY9tY",
    "outputId": "aaf2b88c-87f9-456d-93c4-6df5cd3dee6c"
   },
   "outputs": [
    {
     "data": {
      "image/png": "[encoded data removed]",
      "text/plain": [
       "<matplotlib.figure.Figure at 0x7f1e927159e8>"
      ]
     },
     "metadata": {
      "tags": []
     },
     "output_type": "display_data"
    },
    {
     "name": "stdout",
     "output_type": "stream",
     "text": [
      "[[ 30  39   3]\n",
      " [  6 180   4]\n",
      " [  2  33  24]]\n"
     ]
    }
   ],
   "source": [
    "#Create a basic confusion matrix in an array\n",
    "create_cm(KNN_expected, KNN_predicted)\n",
    "#Define function to print confusion matrix\n",
    "def create_cm(t1, t2):\n",
    "    cm = metrics.confusion_matrix(t1, t2)\n",
    "    plt.matshow(cm)\n",
    "    plt.title('Confusion matrix')\n",
    "    plt.colorbar()\n",
    "    plt.ylabel('True label')\n",
    "    plt.xlabel('Predicted label')\n",
    "    plt.show()\n",
    "    print(cm)"
   ]
  },
  {
   "cell_type": "markdown",
   "metadata": {
    "colab_type": "text",
    "id": "12ROm27IuzN0"
   },
   "source": [
    "# T2 - Improve Performance with Hyperparameter Tuning"
   ]
  },
  {
   "cell_type": "markdown",
   "metadata": {
    "colab_type": "text",
    "id": "bPCWbe8Eu2F1"
   },
   "source": [
    "## Decision Tree with Tuning\n",
    "\n",
    "This decision tree will include balanced class weights, which should help the model identify more positive (minority) class instances. The max_features parameter will also be set to 50, limiting the numebr of features to be considered at each split."
   ]
  },
  {
   "cell_type": "code",
   "execution_count": 96,
   "metadata": {
    "colab": {
     "base_uri": "https://localhost:8080/",
     "height": 309
    },
    "colab_type": "code",
    "id": "60YTz6Pnuzo6",
    "outputId": "74d11824-aefd-429a-b123-e816ceb878f5"
   },
   "outputs": [
    {
     "name": "stdout",
     "output_type": "stream",
     "text": [
      "DecisionTreeClassifier(class_weight='balanced', criterion='gini',\n",
      "            max_depth=None, max_features=50, max_leaf_nodes=None,\n",
      "            min_impurity_decrease=0.0, min_impurity_split=None,\n",
      "            min_samples_leaf=1, min_samples_split=2,\n",
      "            min_weight_fraction_leaf=0.0, presort=False, random_state=42,\n",
      "            splitter='best')\n",
      "0.6635514018691588\n",
      "accuracy: 0.6635514018691588\n",
      "             precision    recall  f1-score   support\n",
      "\n",
      "   Negative       0.46      0.79      0.58        72\n",
      "    Neutral       0.86      0.62      0.72       190\n",
      "   Positive       0.63      0.64      0.64        59\n",
      "\n",
      "avg / total       0.73      0.66      0.68       321\n",
      "\n"
     ]
    }
   ],
   "source": [
    "from sklearn import metrics\n",
    "from sklearn.tree import DecisionTreeClassifier\n",
    "\n",
    "# fit a Decision Tree model to the data\n",
    "model = DecisionTreeClassifier(class_weight = 'balanced', max_features = 50, random_state = 42)\n",
    "print(model)\n",
    "model.fit(X_train, y_train)\n",
    "\n",
    "# make predictions\n",
    "clf4_expected = y_test\n",
    "clf4_predicted = model.predict(X_test)\n",
    "\n",
    "print(model.score(X_test, y_test))\n",
    "\n",
    "# summarize the fit of the model\n",
    "print(\"accuracy: \" + str(metrics.accuracy_score(clf4_expected, clf4_predicted)))\n",
    "print(metrics.classification_report(clf4_expected, clf4_predicted))"
   ]
  },
  {
   "cell_type": "markdown",
   "metadata": {
    "colab_type": "text",
    "id": "3sq2Bb-zu7Xt"
   },
   "source": [
    "The overall accuracy went down from .87 with no tuning to .8 with tuning. This decrease in overall accuracy may be acceptable due to the high increase in recall in the positive class. 88 percent of positive class instances were identified, albeit with only .34 precision. The balanced class weights essentially cast a wider net to identify more positive class instances, which resulted in a misclassification of neutral and negative instances as positive. If the concern is to identify Tweets that are more polar in their sentiment, then this model is more desireable. However, if simple accuracy is the goal, then the baseline model is preferable."
   ]
  },
  {
   "cell_type": "markdown",
   "metadata": {
    "colab_type": "text",
    "id": "iQ8hdMNau71b"
   },
   "source": [
    "The misclassifications of neutral and negative instances as positive can be clearly seen in the confusion matrix below (with 2 referring to the positive class)"
   ]
  },
  {
   "cell_type": "code",
   "execution_count": 97,
   "metadata": {
    "colab": {
     "base_uri": "https://localhost:8080/",
     "height": 327
    },
    "colab_type": "code",
    "id": "tTzAQZ4gu-YX",
    "outputId": "1f83993e-c318-474f-d4e4-e84160d388f7"
   },
   "outputs": [
    {
     "data": {
      "image/png": "[encoded data removed]",
      "text/plain": [
       "<matplotlib.figure.Figure at 0x7f1e929ab240>"
      ]
     },
     "metadata": {
      "tags": []
     },
     "output_type": "display_data"
    },
    {
     "name": "stdout",
     "output_type": "stream",
     "text": [
      "[[ 57  10   5]\n",
      " [ 55 118  17]\n",
      " [ 12   9  38]]\n"
     ]
    }
   ],
   "source": [
    "create_cm(clf4_expected, clf4_predicted)"
   ]
  },
  {
   "cell_type": "markdown",
   "metadata": {
    "colab_type": "text",
    "id": "-UyGNZdtvEKv"
   },
   "source": [
    "## Naïve Bayes with Tuning"
   ]
  },
  {
   "cell_type": "code",
   "execution_count": 98,
   "metadata": {
    "colab": {
     "base_uri": "https://localhost:8080/",
     "height": 204
    },
    "colab_type": "code",
    "id": "zMiK3-twvAe9",
    "outputId": "6a033b0d-5ee0-4d7a-a711-884bca7bbcae"
   },
   "outputs": [
    {
     "name": "stdout",
     "output_type": "stream",
     "text": [
      "MultinomialNB(alpha=4, class_prior=None, fit_prior=True)\n",
      "0.6542056074766355\n",
      "accuracy: 0.6542056074766355\n",
      "             precision    recall  f1-score   support\n",
      "\n",
      "   Negative       0.72      0.36      0.48        72\n",
      "    Neutral       0.68      0.87      0.77       190\n",
      "   Positive       0.43      0.31      0.36        59\n",
      "\n",
      "avg / total       0.65      0.65      0.63       321\n",
      "\n"
     ]
    }
   ],
   "source": [
    "# Multinomial Naive Bayes\n",
    "from sklearn.naive_bayes import MultinomialNB\n",
    "\n",
    "# fit a Naive Bayes model to the data\n",
    "model = MultinomialNB(alpha = 4)\n",
    "print(model)\n",
    "model.fit(X_train, y_train)\n",
    "\n",
    "# make predictions\n",
    "clf5_expected = y_test\n",
    "clf5_predicted = model.predict(X_test)\n",
    "\n",
    "print(model.score(X_test, y_test))\n",
    "\n",
    "# summarize the fit of the model\n",
    "print(\"accuracy: \" + str(metrics.accuracy_score(clf5_expected, clf5_predicted)))\n",
    "print(metrics.classification_report(clf5_expected, clf5_predicted))"
   ]
  },
  {
   "cell_type": "markdown",
   "metadata": {
    "colab_type": "text",
    "id": "lvbZjXcBvK5n"
   },
   "source": [
    "Increasing the alpha value incrased overall accuracy by about .02. The positive class recall increased, although at the expense of precision. This model still significantly inderperformed the decision tree model. "
   ]
  },
  {
   "cell_type": "markdown",
   "metadata": {
    "colab_type": "text",
    "id": "W5xYOj_HvLd1"
   },
   "source": [
    "#### Confusion Matrix"
   ]
  },
  {
   "cell_type": "code",
   "execution_count": 99,
   "metadata": {
    "colab": {
     "base_uri": "https://localhost:8080/",
     "height": 327
    },
    "colab_type": "code",
    "id": "AjpHSEkAvNvT",
    "outputId": "ceb76add-2d11-48eb-b7fa-ace4ffeea079"
   },
   "outputs": [
    {
     "data": {
      "image/png": "[encoded data removed]",
      "text/plain": [
       "<matplotlib.figure.Figure at 0x7f1e925cf198>"
      ]
     },
     "metadata": {
      "tags": []
     },
     "output_type": "display_data"
    },
    {
     "name": "stdout",
     "output_type": "stream",
     "text": [
      "[[ 26  39   7]\n",
      " [  7 166  17]\n",
      " [  3  38  18]]\n"
     ]
    }
   ],
   "source": [
    "create_cm(clf5_expected, clf5_predicted)"
   ]
  },
  {
   "cell_type": "markdown",
   "metadata": {
    "colab_type": "text",
    "id": "tb_-hqlyvSXN"
   },
   "source": [
    "## Logistic Regression with Tuning"
   ]
  },
  {
   "cell_type": "code",
   "execution_count": 100,
   "metadata": {
    "colab": {
     "base_uri": "https://localhost:8080/",
     "height": 275
    },
    "colab_type": "code",
    "id": "EcirtJRnvS0g",
    "outputId": "4c98f82d-b4c1-443c-961e-2827cdb1aff4"
   },
   "outputs": [
    {
     "name": "stdout",
     "output_type": "stream",
     "text": [
      "LogisticRegression(C=3, class_weight='balanced', dual=False,\n",
      "          fit_intercept=True, intercept_scaling=1, max_iter=100,\n",
      "          multi_class='ovr', n_jobs=1, penalty='l2', random_state=42,\n",
      "          solver='liblinear', tol=0.0001, verbose=0, warm_start=False)\n",
      "0.7071651090342679\n",
      "accuracy: 0.7071651090342679\n",
      "             precision    recall  f1-score   support\n",
      "\n",
      "   Negative       0.69      0.47      0.56        72\n",
      "    Neutral       0.75      0.83      0.79       190\n",
      "   Positive       0.56      0.59      0.58        59\n",
      "\n",
      "avg / total       0.70      0.71      0.70       321\n",
      "\n"
     ]
    }
   ],
   "source": [
    "# Logistic Regression\n",
    "from sklearn.linear_model import LogisticRegression\n",
    "\n",
    "# fit a logistic regression model to the data\n",
    "model = LogisticRegression(C = 3, class_weight=\"balanced\", random_state = 42)\n",
    "print(model)\n",
    "model.fit(X_train, y_train)\n",
    "\n",
    "# make predictions\n",
    "clf6_expected = y_test\n",
    "clf6_predicted = model.predict(X_test)\n",
    "\n",
    "print(model.score(X_test, y_test))\n",
    "\n",
    "# summarize the fit of the model\n",
    "print(\"accuracy: \" + str(metrics.accuracy_score(clf6_expected, clf6_predicted)))\n",
    "print(metrics.classification_report(clf6_expected, clf6_predicted))"
   ]
  },
  {
   "cell_type": "markdown",
   "metadata": {
    "colab_type": "text",
    "id": "6h5BIJpTvXOb"
   },
   "source": [
    "Increasing the cost value (C) and adding balanced calss weights had a similar effect as the tunings employed on the decision tree. The positive class recall significantly increased at the expense of neutral class recall. The increase in positive class recall was not quite as high as that of the decision tree, but precision was quite higher at .46. Again, if the concern is to identify Tweets that have more polarity in sentiment, this tuned logit model is preferable. But if overall accuracy is the objective, the baseline model is better. "
   ]
  },
  {
   "cell_type": "markdown",
   "metadata": {
    "colab_type": "text",
    "id": "EjdoQdTkTVjo"
   },
   "source": [
    "## K-Nearest Neighbors with Tuning\n",
    "\n",
    "Tuning the K-Nearest Neighbors predictive model will be done using the \"elbow method.\" This method will be used to find the optimal parameter for the n_neighbors parameter, by determining the steepest slope with the smallest misclassification error (MSE). The next step is to define and test the model on the predefined training and testing data set, resulting in the summary statistics of the fit and a confusion matrix."
   ]
  },
  {
   "cell_type": "code",
   "execution_count": 0,
   "metadata": {
    "colab": {},
    "colab_type": "code",
    "id": "ju35RkcdU1ia"
   },
   "outputs": [],
   "source": [
    "#Import the package from scikit-learn library\n",
    "from sklearn.model_selection import cross_val_score\n",
    "#Creating odd list of K for KNN\n",
    "myList = list(range(1,35))\n",
    "#Subset only odd K values\n",
    "neighbors = list(filter(lambda x: x % 2 != 0, myList))\n",
    "#Define an empty list to store cross validation scores\n",
    "cv_scores = []\n",
    "#Create a foreloop forn 10-fold cross validation\n",
    "for k in neighbors:\n",
    "    knn = KNeighborsClassifier(n_neighbors=k)\n",
    "    scores = cross_val_score(knn, X_train, y_train, cv=10, scoring='accuracy')\n",
    "    cv_scores.append(scores.mean())"
   ]
  },
  {
   "cell_type": "code",
   "execution_count": 102,
   "metadata": {
    "colab": {
     "base_uri": "https://localhost:8080/",
     "height": 297
    },
    "colab_type": "code",
    "id": "x5wo4UhXU_du",
    "outputId": "1d1ad03d-01d1-461a-e201-2d5e9a44fff9"
   },
   "outputs": [
    {
     "name": "stdout",
     "output_type": "stream",
     "text": [
      "The optimal number of neighbors is 5\n"
     ]
    },
    {
     "data": {
      "image/png": "[encoded data removed]",
      "text/plain": [
       "<matplotlib.figure.Figure at 0x7f1e9292c160>"
      ]
     },
     "metadata": {
      "tags": []
     },
     "output_type": "display_data"
    }
   ],
   "source": [
    "#Define the MSE\n",
    "MSE = [1 - x for x in cv_scores]\n",
    "#Determine optimal K value\n",
    "optimal_k = neighbors[MSE.index(min(MSE))]\n",
    "print(\"The optimal number of neighbors is %d\" % optimal_k)\n",
    "#Plot the elbow graph of K and MSE\n",
    "plt.plot(neighbors, MSE)\n",
    "plt.xlabel('Number of Neighbors K')\n",
    "plt.ylabel('Misclassification Error')\n",
    "plt.show()"
   ]
  },
  {
   "cell_type": "code",
   "execution_count": 120,
   "metadata": {
    "colab": {
     "base_uri": "https://localhost:8080/",
     "height": 187
    },
    "colab_type": "code",
    "id": "Wpatus4PVR2X",
    "outputId": "059f1018-3b7e-4979-8a63-c9a78b4970c7"
   },
   "outputs": [
    {
     "name": "stdout",
     "output_type": "stream",
     "text": [
      "0.6635514018691588\n",
      "accuracy: 0.6635514018691588\n",
      "             precision    recall  f1-score   support\n",
      "\n",
      "   Negative       0.77      0.28      0.41        72\n",
      "    Neutral       0.65      0.96      0.78       190\n",
      "   Positive       0.77      0.17      0.28        59\n",
      "\n",
      "avg / total       0.70      0.66      0.60       321\n",
      "\n"
     ]
    }
   ],
   "source": [
    "#Instantiate predictive model \n",
    "KNN23 = KNeighborsClassifier(n_neighbors=5)\n",
    "model.fit(X_train, y_train)\n",
    "#Test the model\n",
    "KNN23_expected = y_test\n",
    "KNN23_predicted = model.predict(X_test)\n",
    "#Summary statistics of the model fit\n",
    "print(\"accuracy: \" + str(metrics.accuracy_score(KNN23_expected, KNN23_predicted)))\n",
    "print(metrics.classification_report(KNN23_expected, KNN23_predicted))"
   ]
  },
  {
   "cell_type": "markdown",
   "metadata": {
    "colab_type": "text",
    "id": "Wy9BunVFVt8y"
   },
   "source": [
    "#### Confusion Matrix"
   ]
  },
  {
   "cell_type": "code",
   "execution_count": 121,
   "metadata": {
    "colab": {
     "base_uri": "https://localhost:8080/",
     "height": 307
    },
    "colab_type": "code",
    "id": "JWMjq6OEVvAJ",
    "outputId": "406853f3-dc7f-439c-87ed-f3340505b09e"
   },
   "outputs": [
    {
     "data": {
      "image/png": "[encoded data removed]",
      "text/plain": [
       "<matplotlib.figure.Figure at 0x7f1e9236ae10>"
      ]
     },
     "metadata": {
      "tags": []
     },
     "output_type": "display_data"
    },
    {
     "name": "stdout",
     "output_type": "stream",
     "text": [
      "[[ 20  51   1]\n",
      " [  5 183   2]\n",
      " [  1  48  10]]\n"
     ]
    }
   ],
   "source": [
    "#Create a basic confusion matrix in an array\n",
    "create_cm(KNN23_expected, KNN23_predicted)\n",
    "#Define function to print confusion matrix\n",
    "def create_cm(t1, t2):\n",
    "    cm = metrics.confusion_matrix(t1, t2)\n",
    "    plt.matshow(cm)\n",
    "    plt.title('Confusion matrix')\n",
    "    plt.colorbar()\n",
    "    plt.ylabel('True label')\n",
    "    plt.xlabel('Predicted label')\n",
    "    plt.show()\n",
    "    print(cm)"
   ]
  },
  {
   "cell_type": "markdown",
   "metadata": {
    "colab_type": "text",
    "id": "S3XH45SuvXwr"
   },
   "source": [
    "## CV 3\n",
    "\n",
    "Now that some tuned models have been run using the text from CV3, a new count vectorizer will be built with an increased ngram_rang to see how giving a little more context (i.e. 2 and 3 word combinations) will aid the models in their predicitons."
   ]
  },
  {
   "cell_type": "code",
   "execution_count": 105,
   "metadata": {
    "colab": {
     "base_uri": "https://localhost:8080/",
     "height": 51
    },
    "colab_type": "code",
    "id": "LnQ60rObvahe",
    "outputId": "83bd11e9-7123-4ee9-8b24-59a461fb6caf"
   },
   "outputs": [
    {
     "name": "stdout",
     "output_type": "stream",
     "text": [
      "Shape: (1070, 157)\n",
      "Type: <class 'scipy.sparse.csr.csr_matrix'>\n"
     ]
    }
   ],
   "source": [
    "#Define the count vectorizer using default parameters\n",
    "cv3 = CountVectorizer(stop_words=stopwords, min_df = .02, ngram_range = (2,3))\n",
    "#Apply the count vectorizer for the bag of words to the dataframe feature\n",
    "cv3_text = cv3.fit_transform(tweet_frame['TweetText'])\n",
    "#This is the feature space for TweetText\n",
    "print('Shape:', cv3_text.shape)\n",
    "#This is the type of matrix that is returned for TweetText\n",
    "print('Type:', type(cv3_text))"
   ]
  },
  {
   "cell_type": "code",
   "execution_count": 106,
   "metadata": {
    "colab": {
     "base_uri": "https://localhost:8080/",
     "height": 514
    },
    "colab_type": "code",
    "id": "OEOwLpeYveQB",
    "outputId": "f325a8d7-8f99-4921-d4b2-631954303ba1"
   },
   "outputs": [
    {
     "data": {
      "text/html": [
       "<div>\n",
       "<style scoped>\n",
       "    .dataframe tbody tr th:only-of-type {\n",
       "        vertical-align: middle;\n",
       "    }\n",
       "\n",
       "    .dataframe tbody tr th {\n",
       "        vertical-align: top;\n",
       "    }\n",
       "\n",
       "    .dataframe thead th {\n",
       "        text-align: right;\n",
       "    }\n",
       "</style>\n",
       "<table border=\"1\" class=\"dataframe\">\n",
       "  <thead>\n",
       "    <tr style=\"text-align: right;\">\n",
       "      <th></th>\n",
       "      <th>count</th>\n",
       "    </tr>\n",
       "  </thead>\n",
       "  <tbody>\n",
       "    <tr>\n",
       "      <th>boy asked</th>\n",
       "      <td>76</td>\n",
       "    </tr>\n",
       "    <tr>\n",
       "      <th>aid distribution center</th>\n",
       "      <td>76</td>\n",
       "    </tr>\n",
       "    <tr>\n",
       "      <th>president realdonaldtrump</th>\n",
       "      <td>76</td>\n",
       "    </tr>\n",
       "    <tr>\n",
       "      <th>center boy asked</th>\n",
       "      <td>76</td>\n",
       "    </tr>\n",
       "    <tr>\n",
       "      <th>center boy</th>\n",
       "      <td>76</td>\n",
       "    </tr>\n",
       "    <tr>\n",
       "      <th>boy asked president</th>\n",
       "      <td>76</td>\n",
       "    </tr>\n",
       "    <tr>\n",
       "      <th>distribution center</th>\n",
       "      <td>76</td>\n",
       "    </tr>\n",
       "    <tr>\n",
       "      <th>asked president realdonaldtrump</th>\n",
       "      <td>76</td>\n",
       "    </tr>\n",
       "    <tr>\n",
       "      <th>asked president</th>\n",
       "      <td>76</td>\n",
       "    </tr>\n",
       "    <tr>\n",
       "      <th>realdonaldtrump hug</th>\n",
       "      <td>76</td>\n",
       "    </tr>\n",
       "    <tr>\n",
       "      <th>distribution center boy</th>\n",
       "      <td>76</td>\n",
       "    </tr>\n",
       "    <tr>\n",
       "      <th>aid distribution</th>\n",
       "      <td>76</td>\n",
       "    </tr>\n",
       "    <tr>\n",
       "      <th>northcarolina aid distribution</th>\n",
       "      <td>76</td>\n",
       "    </tr>\n",
       "    <tr>\n",
       "      <th>president realdonaldtrump hug</th>\n",
       "      <td>76</td>\n",
       "    </tr>\n",
       "    <tr>\n",
       "      <th>northcarolina aid</th>\n",
       "      <td>76</td>\n",
       "    </tr>\n",
       "  </tbody>\n",
       "</table>\n",
       "</div>"
      ],
      "text/plain": [
       "                                 count\n",
       "boy asked                           76\n",
       "aid distribution center             76\n",
       "president realdonaldtrump           76\n",
       "center boy asked                    76\n",
       "center boy                          76\n",
       "boy asked president                 76\n",
       "distribution center                 76\n",
       "asked president realdonaldtrump     76\n",
       "asked president                     76\n",
       "realdonaldtrump hug                 76\n",
       "distribution center boy             76\n",
       "aid distribution                    76\n",
       "northcarolina aid distribution      76\n",
       "president realdonaldtrump hug       76\n",
       "northcarolina aid                   76"
      ]
     },
     "execution_count": 106,
     "metadata": {
      "tags": []
     },
     "output_type": "execute_result"
    }
   ],
   "source": [
    "names = cv3.get_feature_names()   #create list of feature names\n",
    "\n",
    "count = np.sum(cv3_text.toarray(), axis = 0) # convert list to array to add up feature counts \n",
    "count2 = count.tolist()  # convert numpy array to list\n",
    "\n",
    "count_df = pd.DataFrame(count2, index = names, columns = ['count']) # create a dataframe from the list\n",
    "\n",
    "sorted_count = count_df.sort_values(['count'], ascending = False)\n",
    "sorted_count.head(15)"
   ]
  },
  {
   "cell_type": "markdown",
   "metadata": {
    "colab_type": "text",
    "id": "rFXJgbejvjFc"
   },
   "source": [
    "The top occurring two and three word combinations give some insight into the heated anture of the world of #Trump Tweets. This text will now be used for classification."
   ]
  },
  {
   "cell_type": "markdown",
   "metadata": {
    "colab_type": "text",
    "id": "x7UUCIq1vjm-"
   },
   "source": [
    "### Split into train/test"
   ]
  },
  {
   "cell_type": "code",
   "execution_count": 107,
   "metadata": {
    "colab": {
     "base_uri": "https://localhost:8080/",
     "height": 51
    },
    "colab_type": "code",
    "id": "atvZpLjEvlzQ",
    "outputId": "803d7fc5-abae-42a6-adb7-d22d7507b90e"
   },
   "outputs": [
    {
     "name": "stdout",
     "output_type": "stream",
     "text": [
      "<class 'numpy.ndarray'>\n",
      "<class 'numpy.ndarray'>\n"
     ]
    }
   ],
   "source": [
    "# train test split\n",
    "# data are X, labels are y\n",
    "from sklearn.model_selection import train_test_split\n",
    "\n",
    "X = cv3_text.toarray()  #remember this is the output from the vectorizer and we are turning it into an array\n",
    "print(type(X))\n",
    "\n",
    "\n",
    "y = tweet_frame['afinn'].values #this is an array of labels\n",
    "print(type(y))"
   ]
  },
  {
   "cell_type": "code",
   "execution_count": 108,
   "metadata": {
    "colab": {
     "base_uri": "https://localhost:8080/",
     "height": 85
    },
    "colab_type": "code",
    "id": "JuGlLC3ZvoHT",
    "outputId": "ce43b5e9-979f-4cc3-d6c5-8f2bab9cbe23"
   },
   "outputs": [
    {
     "name": "stdout",
     "output_type": "stream",
     "text": [
      "(749, 157)\n",
      "(321, 157)\n",
      "(749,)\n",
      "(321,)\n"
     ]
    }
   ],
   "source": [
    "X_train, X_test, y_train, y_test = train_test_split(X, y, test_size=0.3, random_state=42) #random_state is set seed\n",
    "\n",
    "# function creates 4 output structures - order matters\n",
    "print(X_train.shape)\n",
    "print(X_test.shape)\n",
    "print(y_train.shape)\n",
    "print(y_test.shape)"
   ]
  },
  {
   "cell_type": "markdown",
   "metadata": {
    "colab_type": "text",
    "id": "eaWp_aBKvsFf"
   },
   "source": [
    "## Decision Tree- baseline 2"
   ]
  },
  {
   "cell_type": "code",
   "execution_count": 109,
   "metadata": {
    "colab": {
     "base_uri": "https://localhost:8080/",
     "height": 309
    },
    "colab_type": "code",
    "id": "3yX7gn62vscG",
    "outputId": "c85689ad-f7da-4449-fb97-21d10dfcfc96"
   },
   "outputs": [
    {
     "name": "stdout",
     "output_type": "stream",
     "text": [
      "DecisionTreeClassifier(class_weight=None, criterion='gini', max_depth=None,\n",
      "            max_features=None, max_leaf_nodes=None,\n",
      "            min_impurity_decrease=0.0, min_impurity_split=None,\n",
      "            min_samples_leaf=1, min_samples_split=2,\n",
      "            min_weight_fraction_leaf=0.0, presort=False, random_state=42,\n",
      "            splitter='best')\n",
      "0.67601246105919\n",
      "accuracy: 0.67601246105919\n",
      "             precision    recall  f1-score   support\n",
      "\n",
      "   Negative       1.00      0.26      0.42        72\n",
      "    Neutral       0.65      0.99      0.78       190\n",
      "   Positive       0.77      0.17      0.28        59\n",
      "\n",
      "avg / total       0.75      0.68      0.61       321\n",
      "\n"
     ]
    }
   ],
   "source": [
    "from sklearn import metrics\n",
    "from sklearn.tree import DecisionTreeClassifier\n",
    "\n",
    "# fit a Decision Tree model to the data\n",
    "model = DecisionTreeClassifier(random_state = 42)\n",
    "print(model)\n",
    "model.fit(X_train, y_train)\n",
    "\n",
    "# make predictions\n",
    "clf7_expected = y_test\n",
    "clf7_predicted = model.predict(X_test)\n",
    "\n",
    "print(model.score(X_test, y_test))\n",
    "\n",
    "# summarize the fit of the model\n",
    "print(\"accuracy: \" + str(metrics.accuracy_score(clf7_expected, clf7_predicted)))\n",
    "print(metrics.classification_report(clf7_expected, clf7_predicted))"
   ]
  },
  {
   "cell_type": "markdown",
   "metadata": {
    "colab_type": "text",
    "id": "AdCPVnqzvwn9"
   },
   "source": [
    "This decision tree produced very different results than the initial one with the cv2_text. Neutral class recall was 1.00, meaning all neutral instances were identified, albeit with only .75 precision. The positive class recall was only .05, but had perfect precision. Despite the relatively high overall accuracy (.818), this model is not very helpful as it barely classifies any instances in the positive class. "
   ]
  },
  {
   "cell_type": "markdown",
   "metadata": {
    "colab_type": "text",
    "id": "atGskio1vxRS"
   },
   "source": [
    "## Decision Tree tuned 2"
   ]
  },
  {
   "cell_type": "code",
   "execution_count": 110,
   "metadata": {
    "colab": {
     "base_uri": "https://localhost:8080/",
     "height": 309
    },
    "colab_type": "code",
    "id": "PjrgUzSpvy-0",
    "outputId": "ad19492c-b235-4549-f433-569b6391c70f"
   },
   "outputs": [
    {
     "name": "stdout",
     "output_type": "stream",
     "text": [
      "DecisionTreeClassifier(class_weight='balanced', criterion='gini',\n",
      "            max_depth=None, max_features=50, max_leaf_nodes=None,\n",
      "            min_impurity_decrease=0.0, min_impurity_split=None,\n",
      "            min_samples_leaf=1, min_samples_split=2,\n",
      "            min_weight_fraction_leaf=0.0, presort=False, random_state=42,\n",
      "            splitter='best')\n",
      "0.40809968847352024\n",
      "accuracy: 0.40809968847352024\n",
      "             precision    recall  f1-score   support\n",
      "\n",
      "   Negative       0.76      0.26      0.39        72\n",
      "    Neutral       0.92      0.29      0.45       190\n",
      "   Positive       0.24      0.95      0.38        59\n",
      "\n",
      "avg / total       0.76      0.41      0.42       321\n",
      "\n"
     ]
    }
   ],
   "source": [
    "from sklearn import metrics\n",
    "from sklearn.tree import DecisionTreeClassifier\n",
    "\n",
    "# fit a Decision Tree model to the data\n",
    "model = DecisionTreeClassifier(class_weight='balanced',max_features=50,random_state = 42)\n",
    "print(model)\n",
    "model.fit(X_train, y_train)\n",
    "\n",
    "# make predictions\n",
    "clf8_expected = y_test\n",
    "clf8_predicted = model.predict(X_test)\n",
    "\n",
    "print(model.score(X_test, y_test))\n",
    "\n",
    "# summarize the fit of the model\n",
    "print(\"accuracy: \" + str(metrics.accuracy_score(clf8_expected, clf8_predicted)))\n",
    "print(metrics.classification_report(clf8_expected, clf8_predicted))"
   ]
  },
  {
   "cell_type": "markdown",
   "metadata": {
    "colab_type": "text",
    "id": "3njCKxtJv2tx"
   },
   "source": [
    "Adding the tuning parameters of balanced calss weights and max features greatly altered the results. The overall accuracy went down significantly to .655, though the positive class recall increased greatly, albeit with very poor precision. This was at the expense of the neutral class recall, which lowered to .52. "
   ]
  },
  {
   "cell_type": "markdown",
   "metadata": {
    "colab_type": "text",
    "id": "Bse9NL8cv5-r"
   },
   "source": [
    "## Naïve Bayes baseline 2"
   ]
  },
  {
   "cell_type": "code",
   "execution_count": 111,
   "metadata": {
    "colab": {
     "base_uri": "https://localhost:8080/",
     "height": 224
    },
    "colab_type": "code",
    "id": "tT6ZPEzSv3Lr",
    "outputId": "4dcd017d-2cfa-4ef1-e1fe-a70bdfe64d4e"
   },
   "outputs": [
    {
     "name": "stdout",
     "output_type": "stream",
     "text": [
      "MultinomialNB(alpha=1.0, class_prior=None, fit_prior=True)\n",
      "0.6791277258566978\n",
      "accuracy: 0.6791277258566978\n",
      "             precision    recall  f1-score   support\n",
      "\n",
      "   Negative       0.88      0.29      0.44        72\n",
      "    Neutral       0.65      0.98      0.78       190\n",
      "   Positive       1.00      0.17      0.29        59\n",
      "\n",
      "avg / total       0.77      0.68      0.62       321\n",
      "\n"
     ]
    }
   ],
   "source": [
    "# Multinomial Naive Bayes\n",
    "from sklearn.naive_bayes import MultinomialNB\n",
    "\n",
    "# fit a Naive Bayes model to the data\n",
    "model = MultinomialNB()\n",
    "print(model)\n",
    "model.fit(X_train, y_train)\n",
    "\n",
    "# make predictions\n",
    "clf9_expected = y_test\n",
    "clf9_predicted = model.predict(X_test)\n",
    "\n",
    "print(model.score(X_test, y_test))\n",
    "\n",
    "# summarize the fit of the model\n",
    "print(\"accuracy: \" + str(metrics.accuracy_score(clf9_expected, clf9_predicted)))\n",
    "print(metrics.classification_report(clf9_expected, clf9_predicted))"
   ]
  },
  {
   "cell_type": "markdown",
   "metadata": {
    "colab_type": "text",
    "id": "NqyrYMytv_UB"
   },
   "source": [
    "This model performed very poorly. Let's see if increasing the alpha parameter cahnges anything."
   ]
  },
  {
   "cell_type": "markdown",
   "metadata": {
    "colab_type": "text",
    "id": "8bI39uq5wAWa"
   },
   "source": [
    "## Naive Bayes tuned 2"
   ]
  },
  {
   "cell_type": "code",
   "execution_count": 112,
   "metadata": {
    "colab": {
     "base_uri": "https://localhost:8080/",
     "height": 224
    },
    "colab_type": "code",
    "id": "_cNEPYy5wCzf",
    "outputId": "d5551357-9bc5-4d1f-c7e3-6df61c3d9e5b"
   },
   "outputs": [
    {
     "name": "stdout",
     "output_type": "stream",
     "text": [
      "MultinomialNB(alpha=2, class_prior=None, fit_prior=True)\n",
      "0.6791277258566978\n",
      "accuracy: 0.6791277258566978\n",
      "             precision    recall  f1-score   support\n",
      "\n",
      "   Negative       0.88      0.29      0.44        72\n",
      "    Neutral       0.65      0.98      0.78       190\n",
      "   Positive       1.00      0.17      0.29        59\n",
      "\n",
      "avg / total       0.77      0.68      0.62       321\n",
      "\n"
     ]
    }
   ],
   "source": [
    "# Multinomial Naive Bayes\n",
    "from sklearn.naive_bayes import MultinomialNB\n",
    "\n",
    "# fit a Naive Bayes model to the data\n",
    "model = MultinomialNB(alpha=2)\n",
    "print(model)\n",
    "model.fit(X_train, y_train)\n",
    "\n",
    "# make predictions\n",
    "clf10_expected = y_test\n",
    "clf10_predicted = model.predict(X_test)\n",
    "\n",
    "print(model.score(X_test, y_test))\n",
    "\n",
    "# summarize the fit of the model\n",
    "print(\"accuracy: \" + str(metrics.accuracy_score(clf10_expected, clf10_predicted)))\n",
    "print(metrics.classification_report(clf10_expected, clf10_predicted))"
   ]
  },
  {
   "cell_type": "markdown",
   "metadata": {
    "colab_type": "text",
    "id": "xrug55UZwIU_"
   },
   "source": [
    "Increasing the alpha value did not do much to improve this model. The positive class metrics particularly make this model useless compared to others that have been constructed."
   ]
  },
  {
   "cell_type": "markdown",
   "metadata": {
    "colab_type": "text",
    "id": "LXce9_HMwJCa"
   },
   "source": [
    "## Logistic Regression baseline 2"
   ]
  },
  {
   "cell_type": "code",
   "execution_count": 113,
   "metadata": {
    "colab": {
     "base_uri": "https://localhost:8080/",
     "height": 275
    },
    "colab_type": "code",
    "id": "2dirgALswLW3",
    "outputId": "a7f79629-d956-4090-d846-3262ef8f45d2"
   },
   "outputs": [
    {
     "name": "stdout",
     "output_type": "stream",
     "text": [
      "LogisticRegression(C=1.0, class_weight=None, dual=False, fit_intercept=True,\n",
      "          intercept_scaling=1, max_iter=100, multi_class='ovr', n_jobs=1,\n",
      "          penalty='l2', random_state=42, solver='liblinear', tol=0.0001,\n",
      "          verbose=0, warm_start=False)\n",
      "0.6822429906542056\n",
      "accuracy: 0.6822429906542056\n",
      "             precision    recall  f1-score   support\n",
      "\n",
      "   Negative       1.00      0.26      0.42        72\n",
      "    Neutral       0.65      1.00      0.79       190\n",
      "   Positive       1.00      0.17      0.29        59\n",
      "\n",
      "avg / total       0.79      0.68      0.61       321\n",
      "\n"
     ]
    }
   ],
   "source": [
    "# Logistic Regression\n",
    "from sklearn.linear_model import LogisticRegression\n",
    "\n",
    "# fit a logistic regression model to the data\n",
    "model = LogisticRegression(random_state = 42)\n",
    "print(model)\n",
    "model.fit(X_train, y_train)\n",
    "\n",
    "# make predictions\n",
    "clf11_expected = y_test\n",
    "clf11_predicted = model.predict(X_test)\n",
    "\n",
    "print(model.score(X_test, y_test))\n",
    "\n",
    "# summarize the fit of the model\n",
    "print(\"accuracy: \" + str(metrics.accuracy_score(clf11_expected, clf11_predicted)))\n",
    "print(metrics.classification_report(clf11_expected, clf11_predicted))"
   ]
  },
  {
   "cell_type": "markdown",
   "metadata": {
    "colab_type": "text",
    "id": "BIqwyjjfdKCA"
   },
   "source": [
    "## Logistic Regression tuned 2"
   ]
  },
  {
   "cell_type": "code",
   "execution_count": 114,
   "metadata": {
    "colab": {
     "base_uri": "https://localhost:8080/",
     "height": 275
    },
    "colab_type": "code",
    "id": "j8I3qScedMfO",
    "outputId": "d5110080-b721-4987-dd35-ab7448ed0f6b"
   },
   "outputs": [
    {
     "name": "stdout",
     "output_type": "stream",
     "text": [
      "LogisticRegression(C=3, class_weight='balanced', dual=False,\n",
      "          fit_intercept=True, intercept_scaling=1, max_iter=100,\n",
      "          multi_class='ovr', n_jobs=1, penalty='l2', random_state=42,\n",
      "          solver='liblinear', tol=0.0001, verbose=0, warm_start=False)\n",
      "0.6635514018691588\n",
      "accuracy: 0.6635514018691588\n",
      "             precision    recall  f1-score   support\n",
      "\n",
      "   Negative       0.77      0.28      0.41        72\n",
      "    Neutral       0.65      0.96      0.78       190\n",
      "   Positive       0.77      0.17      0.28        59\n",
      "\n",
      "avg / total       0.70      0.66      0.60       321\n",
      "\n"
     ]
    }
   ],
   "source": [
    "# Logistic Regression\n",
    "from sklearn.linear_model import LogisticRegression\n",
    "\n",
    "# fit a logistic regression model to the data\n",
    "model = LogisticRegression(C = 3, class_weight=\"balanced\", random_state = 42)\n",
    "print(model)\n",
    "model.fit(X_train, y_train)\n",
    "\n",
    "# make predictions\n",
    "clf12_expected = y_test\n",
    "clf12_predicted = model.predict(X_test)\n",
    "\n",
    "print(model.score(X_test, y_test))\n",
    "\n",
    "# summarize the fit of the model\n",
    "print(\"accuracy: \" + str(metrics.accuracy_score(clf12_expected, clf12_predicted)))\n",
    "print(metrics.classification_report(clf12_expected, clf12_predicted))"
   ]
  },
  {
   "cell_type": "markdown",
   "metadata": {
    "colab_type": "text",
    "id": "FNbv8j0aK7W4"
   },
   "source": [
    "Euclidean distance"
   ]
  },
  {
   "cell_type": "code",
   "execution_count": 115,
   "metadata": {
    "colab": {
     "base_uri": "https://localhost:8080/",
     "height": 448
    },
    "colab_type": "code",
    "id": "8NbPSs2y-E22",
    "outputId": "9b08db64-30fd-4a53-f480-280ebf3d5b8b"
   },
   "outputs": [
    {
     "data": {
      "text/plain": [
       "Text(0.5,0.92,'Euclidean distance between 2 3D-coordinates')"
      ]
     },
     "execution_count": 115,
     "metadata": {
      "tags": []
     },
     "output_type": "execute_result"
    },
    {
     "data": {
      "image/png": "[encoded data removed]",
      "text/plain": [
       "<matplotlib.figure.Figure at 0x7f1e92af4940>"
      ]
     },
     "metadata": {
      "tags": []
     },
     "output_type": "display_data"
    }
   ],
   "source": [
    "%matplotlib inline\n",
    "import matplotlib as mpl\n",
    "import matplotlib.pyplot as plt\n",
    "\n",
    "from mpl_toolkits.mplot3d import Axes3D\n",
    "from mpl_toolkits.mplot3d import proj3d\n",
    "\n",
    "# visual representation of distance\n",
    "coords1 = [1, 2, 3]\n",
    "coords2 = [4, 5, 6]\n",
    "\n",
    "fig = plt.figure(figsize=(7,7))\n",
    "ax = fig.add_subplot(111, projection='3d')\n",
    "\n",
    "ax.scatter((coords1[0], coords2[0]), \n",
    "        (coords1[1], coords2[1]),\n",
    "        (coords1[2], coords2[2]),\n",
    "         color=\"k\", s=150)\n",
    "\n",
    "ax.plot((coords1[0], coords2[0]), \n",
    "        (coords1[1], coords2[1]),\n",
    "        (coords1[2], coords2[2]),\n",
    "         color=\"r\")\n",
    "\n",
    "ax.set_xlabel('X')\n",
    "ax.set_ylabel('Y')\n",
    "ax.set_zlabel('Z')\n",
    "\n",
    "ax.text(x=2.5, y=3.5, z=4.0, s=' ')\n",
    "\n",
    "plt.title('Euclidean distance between 2 3D-coordinates') "
   ]
  },
  {
   "cell_type": "markdown",
   "metadata": {
    "colab_type": "text",
    "id": "n007-rpSWUED"
   },
   "source": [
    "## K-Nearest Neighbors baseline 2"
   ]
  },
  {
   "cell_type": "code",
   "execution_count": 116,
   "metadata": {
    "colab": {
     "base_uri": "https://localhost:8080/",
     "height": 170
    },
    "colab_type": "code",
    "id": "KkC9m5vGWVh8",
    "outputId": "e18312eb-e8dc-428f-84b8-30d890a43550"
   },
   "outputs": [
    {
     "name": "stdout",
     "output_type": "stream",
     "text": [
      "accuracy: 0.6697819314641744\n",
      "             precision    recall  f1-score   support\n",
      "\n",
      "   Negative       0.77      0.28      0.41        72\n",
      "    Neutral       0.65      0.97      0.78       190\n",
      "   Positive       1.00      0.17      0.29        59\n",
      "\n",
      "avg / total       0.74      0.67      0.61       321\n",
      "\n"
     ]
    }
   ],
   "source": [
    "#Load KNN predictive model library\n",
    "from sklearn.neighbors import KNeighborsClassifier\n",
    "#Define predictive model with default parameters of n_neighbors = 3\n",
    "clf13 = KNeighborsClassifier()\n",
    "#Fit training and testing datasets to model\n",
    "clf13.fit(X_train, y_train)\n",
    "#Test the model by comparing predictions to the test actuals\n",
    "clf13_expected = y_test\n",
    "clf13_predicted = clf13.predict(X_test)\n",
    "#Show measures of prediction\n",
    "print(\"accuracy: \" + str(metrics.accuracy_score(clf13_expected, clf13_predicted)))\n",
    "print(metrics.classification_report(clf13_expected, clf13_predicted))"
   ]
  },
  {
   "cell_type": "markdown",
   "metadata": {
    "colab_type": "text",
    "id": "7NpmFmIRWdeL"
   },
   "source": [
    "## K-Nearest Neighbors tuned 2"
   ]
  },
  {
   "cell_type": "code",
   "execution_count": 0,
   "metadata": {
    "colab": {},
    "colab_type": "code",
    "id": "5d35so8bWkVK"
   },
   "outputs": [],
   "source": [
    "from sklearn.model_selection import cross_val_score\n",
    "# creating odd list of K for KNN\n",
    "myList = list(range(1,35))\n",
    "\n",
    "# subsetting just the odd ones\n",
    "neighbors = list(filter(lambda x: x % 2 != 0, myList))\n",
    "\n",
    "# empty list that will hold cv scores\n",
    "cv_scores = []\n",
    "\n",
    "#takes some time, get a soda...\n",
    "# perform 10-fold cross validation\n",
    "for k in neighbors:\n",
    "    knn = KNeighborsClassifier(n_neighbors=k)\n",
    "    scores = cross_val_score(knn, X_train, y_train, cv=10, scoring='accuracy')\n",
    "    cv_scores.append(scores.mean())"
   ]
  },
  {
   "cell_type": "code",
   "execution_count": 118,
   "metadata": {
    "colab": {
     "base_uri": "https://localhost:8080/",
     "height": 296
    },
    "colab_type": "code",
    "id": "KfloFpukYA7i",
    "outputId": "260dcc74-d0aa-4ca6-f16a-ac01fbc647db"
   },
   "outputs": [
    {
     "name": "stdout",
     "output_type": "stream",
     "text": [
      "The optimal number of neighbors is 23\n"
     ]
    },
    {
     "data": {
      "image/png": "[encoded data removed]",
      "text/plain": [
       "<matplotlib.figure.Figure at 0x7f1e925cf208>"
      ]
     },
     "metadata": {
      "tags": []
     },
     "output_type": "display_data"
    }
   ],
   "source": [
    "# changing to misclassification error\n",
    "MSE = [1 - x for x in cv_scores]\n",
    "\n",
    "# determining best k\n",
    "optimal_k = neighbors[MSE.index(min(MSE))]\n",
    "print(\"The optimal number of neighbors is %d\" % optimal_k)\n",
    "\n",
    "# plot misclassification error vs k\n",
    "plt.plot(neighbors, MSE)\n",
    "plt.xlabel('Number of Neighbors K')\n",
    "plt.ylabel('Misclassification Error')\n",
    "plt.show()"
   ]
  },
  {
   "cell_type": "code",
   "execution_count": 119,
   "metadata": {
    "colab": {
     "base_uri": "https://localhost:8080/",
     "height": 187
    },
    "colab_type": "code",
    "id": "tPjHqWmLYGcB",
    "outputId": "5b6179f8-3c1c-4d9a-f193-8249158bfcd2"
   },
   "outputs": [
    {
     "name": "stdout",
     "output_type": "stream",
     "text": [
      "0.6635514018691588\n",
      "accuracy: 0.6635514018691588\n",
      "             precision    recall  f1-score   support\n",
      "\n",
      "   Negative       0.77      0.28      0.41        72\n",
      "    Neutral       0.65      0.96      0.78       190\n",
      "   Positive       0.77      0.17      0.28        59\n",
      "\n",
      "avg / total       0.70      0.66      0.60       321\n",
      "\n"
     ]
    }
   ],
   "source": [
    "# what if we change the number of neighbors?\n",
    "\n",
    "# instantiate learning model \n",
    "KNN23 = KNeighborsClassifier(n_neighbors=23)\n",
    "model.fit(X_train, y_train)\n",
    "\n",
    "\n",
    "# make predictions\n",
    "KNN23_expected = y_test\n",
    "KNN23_predicted = model.predict(X_test)\n",
    "\n",
    "#Print the score \n",
    "print(model.score(X_test,y_test))\n",
    "\n",
    "# summarize the fit of the model\n",
    "print(\"accuracy: \" + str(metrics.accuracy_score(KNN23_expected, KNN23_predicted)))\n",
    "print(metrics.classification_report(KNN23_expected, KNN23_predicted))"
   ]
  }
 ],
 "metadata": {
  "colab": {
   "name": "BIA 6304 Assignment 3.ipynb",
   "provenance": [],
   "toc_visible": true,
   "version": "0.3.2"
  },
  "kernelspec": {
   "display_name": "Python 3",
   "language": "python",
   "name": "python3"
  },
  "language_info": {
   "codemirror_mode": {
    "name": "ipython",
    "version": 3
   },
   "file_extension": ".py",
   "mimetype": "text/x-python",
   "name": "python",
   "nbconvert_exporter": "python",
   "pygments_lexer": "ipython3",
   "version": "3.6.4"
  }
 },
 "nbformat": 4,
 "nbformat_minor": 1
}
